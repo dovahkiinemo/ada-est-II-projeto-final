{
  "cells": [
    {
      "attachments": {},
      "cell_type": "markdown",
      "id": "23acbec8",
      "metadata": {
        "id": "23acbec8"
      },
      "source": [
        "# Projeto Estatística II - Grupo 3\n",
        "Grupo: Alex Moulin, Antonio Zanutto, Carolina Yumi, Gabriel Mourão, Haroldo Viana, Rafael RIbeiro e Thaís Falcão"
      ]
    },
    {
      "attachments": {},
      "cell_type": "markdown",
      "id": "8432dcba",
      "metadata": {
        "id": "8432dcba"
      },
      "source": [
        "## BRAIN STORM\n",
        "\n",
        "- Objetivo deste projeto é lidar com um problema real e tentar resolvê-lo utilizando um modelo de regressão.\n",
        "- Realizamos uma análise abrangente, explicando cada etapa e justificando cada ação escolhida.\n",
        "- Incluímos gráficos e tabelas comparativas para auxiliar na visualização dos dados."
      ]
    },
    {
      "attachments": {},
      "cell_type": "markdown",
      "id": "7d2f46d9",
      "metadata": {
        "id": "7d2f46d9"
      },
      "source": [
        "## BASE DE DADOS\n",
        "\n",
        "A base de dados escolhida foi obtida no Kaggle e pode ser verificada <a href=\"https://www.kaggle.com/datasets/rubenssjr/brasilian-houses-to-rent?select=houses_to_rent_v2.csv\" target=\"_blank\">clicando aqui</a>.\n",
        "\n",
        "A base de dados é composta pelas seguintes características de imóveis:\n",
        "- Cidade do imóvel\n",
        "- Área (m²) do imóvel\n",
        "- Quantidade de quartos\n",
        "- Quantidade de banheiros\n",
        "- Quantidade de vagas de estacionamento\n",
        "- Andar em que o imóvel está localizado\n",
        "- Se é permitido ter animais de estimação\n",
        "- Se é mobiliado ou não\n",
        "- Taxa de condomínio (R$)\n",
        "- Aluguel (R$)\n",
        "- IPTU (R$)\n",
        "- Seguro contra incêndio (R$)\n",
        "- Total (R$)"
      ]
    },
    {
      "attachments": {},
      "cell_type": "markdown",
      "id": "a6793b12",
      "metadata": {
        "id": "a6793b12"
      },
      "source": [
        "## INICIANDO O PROJETO"
      ]
    },
    {
      "attachments": {},
      "cell_type": "markdown",
      "id": "633bdebf",
      "metadata": {
        "id": "633bdebf"
      },
      "source": [
        "**Carregando as bibliotecas**"
      ]
    },
    {
      "cell_type": "code",
      "execution_count": 99,
      "id": "1ea5048a",
      "metadata": {
        "ExecuteTime": {
          "end_time": "2022-07-19T23:43:06.122155Z",
          "start_time": "2022-07-19T23:43:01.924164Z"
        },
        "id": "1ea5048a"
      },
      "outputs": [],
      "source": [
        "import pandas as pd\n",
        "import numpy as np\n",
        "import matplotlib.pyplot as plt\n",
        "import seaborn as sns"
      ]
    },
    {
      "attachments": {},
      "cell_type": "markdown",
      "id": "8ef5ea6c",
      "metadata": {},
      "source": [
        "**Carregando a base de dados**"
      ]
    },
    {
      "cell_type": "code",
      "execution_count": 100,
      "id": "ae8301aa",
      "metadata": {
        "ExecuteTime": {
          "end_time": "2022-07-19T23:59:05.345615Z",
          "start_time": "2022-07-19T23:59:05.330657Z"
        },
        "id": "ae8301aa"
      },
      "outputs": [
        {
          "data": {
            "text/html": [
              "<div>\n",
              "<style scoped>\n",
              "    .dataframe tbody tr th:only-of-type {\n",
              "        vertical-align: middle;\n",
              "    }\n",
              "\n",
              "    .dataframe tbody tr th {\n",
              "        vertical-align: top;\n",
              "    }\n",
              "\n",
              "    .dataframe thead th {\n",
              "        text-align: right;\n",
              "    }\n",
              "</style>\n",
              "<table border=\"1\" class=\"dataframe\">\n",
              "  <thead>\n",
              "    <tr style=\"text-align: right;\">\n",
              "      <th></th>\n",
              "      <th>Cidade</th>\n",
              "      <th>Área (m2)</th>\n",
              "      <th>Quartos</th>\n",
              "      <th>Banheiro</th>\n",
              "      <th>Vagas de Est.</th>\n",
              "      <th>Andar</th>\n",
              "      <th>Permitido pets</th>\n",
              "      <th>Mobiliado</th>\n",
              "      <th>Taxa de Cond. (R$)</th>\n",
              "      <th>Aluguel (R$)</th>\n",
              "      <th>IPTU (R$)</th>\n",
              "      <th>Seguro incêndio (R$)</th>\n",
              "      <th>Total (R$)</th>\n",
              "    </tr>\n",
              "  </thead>\n",
              "  <tbody>\n",
              "    <tr>\n",
              "      <th>0</th>\n",
              "      <td>São Paulo</td>\n",
              "      <td>70</td>\n",
              "      <td>2</td>\n",
              "      <td>1</td>\n",
              "      <td>1</td>\n",
              "      <td>7</td>\n",
              "      <td>acept</td>\n",
              "      <td>furnished</td>\n",
              "      <td>2065</td>\n",
              "      <td>3300</td>\n",
              "      <td>211</td>\n",
              "      <td>42</td>\n",
              "      <td>5618</td>\n",
              "    </tr>\n",
              "    <tr>\n",
              "      <th>1</th>\n",
              "      <td>São Paulo</td>\n",
              "      <td>320</td>\n",
              "      <td>4</td>\n",
              "      <td>4</td>\n",
              "      <td>0</td>\n",
              "      <td>20</td>\n",
              "      <td>acept</td>\n",
              "      <td>not furnished</td>\n",
              "      <td>1200</td>\n",
              "      <td>4960</td>\n",
              "      <td>1750</td>\n",
              "      <td>63</td>\n",
              "      <td>7973</td>\n",
              "    </tr>\n",
              "    <tr>\n",
              "      <th>2</th>\n",
              "      <td>Porto Alegre</td>\n",
              "      <td>80</td>\n",
              "      <td>1</td>\n",
              "      <td>1</td>\n",
              "      <td>1</td>\n",
              "      <td>6</td>\n",
              "      <td>acept</td>\n",
              "      <td>not furnished</td>\n",
              "      <td>1000</td>\n",
              "      <td>2800</td>\n",
              "      <td>0</td>\n",
              "      <td>41</td>\n",
              "      <td>3841</td>\n",
              "    </tr>\n",
              "    <tr>\n",
              "      <th>3</th>\n",
              "      <td>Porto Alegre</td>\n",
              "      <td>51</td>\n",
              "      <td>2</td>\n",
              "      <td>1</td>\n",
              "      <td>0</td>\n",
              "      <td>2</td>\n",
              "      <td>acept</td>\n",
              "      <td>not furnished</td>\n",
              "      <td>270</td>\n",
              "      <td>1112</td>\n",
              "      <td>22</td>\n",
              "      <td>17</td>\n",
              "      <td>1421</td>\n",
              "    </tr>\n",
              "    <tr>\n",
              "      <th>4</th>\n",
              "      <td>São Paulo</td>\n",
              "      <td>25</td>\n",
              "      <td>1</td>\n",
              "      <td>1</td>\n",
              "      <td>0</td>\n",
              "      <td>1</td>\n",
              "      <td>not acept</td>\n",
              "      <td>not furnished</td>\n",
              "      <td>0</td>\n",
              "      <td>800</td>\n",
              "      <td>25</td>\n",
              "      <td>11</td>\n",
              "      <td>836</td>\n",
              "    </tr>\n",
              "  </tbody>\n",
              "</table>\n",
              "</div>"
            ],
            "text/plain": [
              "         Cidade  Área (m2)  Quartos  Banheiro  Vagas de Est. Andar  \\\n",
              "0     São Paulo         70        2         1              1     7   \n",
              "1     São Paulo        320        4         4              0    20   \n",
              "2  Porto Alegre         80        1         1              1     6   \n",
              "3  Porto Alegre         51        2         1              0     2   \n",
              "4     São Paulo         25        1         1              0     1   \n",
              "\n",
              "  Permitido pets      Mobiliado  Taxa de Cond. (R$)  Aluguel (R$)  IPTU (R$)  \\\n",
              "0          acept      furnished                2065          3300        211   \n",
              "1          acept  not furnished                1200          4960       1750   \n",
              "2          acept  not furnished                1000          2800          0   \n",
              "3          acept  not furnished                 270          1112         22   \n",
              "4      not acept  not furnished                   0           800         25   \n",
              "\n",
              "   Seguro incêndio (R$)  Total (R$)  \n",
              "0                    42        5618  \n",
              "1                    63        7973  \n",
              "2                    41        3841  \n",
              "3                    17        1421  \n",
              "4                    11         836  "
            ]
          },
          "execution_count": 100,
          "metadata": {},
          "output_type": "execute_result"
        }
      ],
      "source": [
        "df = pd.read_csv(r'db\\houses_to_rent_v2.csv')\n",
        "# Verificando as primeiras linhas da base de dados\n",
        "df.head()"
      ]
    },
    {
      "attachments": {},
      "cell_type": "markdown",
      "id": "a64acb94",
      "metadata": {},
      "source": [
        "**Definindo o problema**\n",
        "\n",
        "- O objetivo desse projeto é desenvolver um modelo que prevê os preços de aluguel de imovéis a partir de suas características."
      ]
    },
    {
      "attachments": {},
      "cell_type": "markdown",
      "id": "528915cd",
      "metadata": {
        "id": "528915cd"
      },
      "source": [
        "## ANÁLISE E EXPLORAÇÃO DOS DADOS\n",
        "\n",
        "**Faça uma análise detalhada do conjunto de dados escolhidos.**\n",
        "\n",
        "- Identifique os tipos de dados de cada coluna e caso seja necessário, faça uma conversão no tipo de dado. Em muitas situações é interessante renomear as colunas. OK\n",
        "- Verifique se existem valores nulos, e caso existam, elabore uma estrategia para lidar com eles (apagar eles, substituir com outro valor, etc.). OK\n",
        "- Faça uma análise estatistica dos dados para determinar aqueles que provavelmente não vão contribuir durante a modelagem (anomalías e outrliers).\n",
        "- Pode aplicar escalonamento nos dados, para manter todos eles na mesma escala.\n",
        "- Caso tenha features do tipo categorico e queria usar elas durante a modelagem, transforme elas para um valor numerico (encoding!)."
      ]
    },
    {
      "attachments": {},
      "cell_type": "markdown",
      "id": "82efd75f",
      "metadata": {},
      "source": [
        "**Identificando os tipos de dados**"
      ]
    },
    {
      "cell_type": "code",
      "execution_count": 101,
      "id": "82ba4e41",
      "metadata": {},
      "outputs": [
        {
          "name": "stdout",
          "output_type": "stream",
          "text": [
            "<class 'pandas.core.frame.DataFrame'>\n",
            "RangeIndex: 10692 entries, 0 to 10691\n",
            "Data columns (total 13 columns):\n",
            " #   Column                Non-Null Count  Dtype \n",
            "---  ------                --------------  ----- \n",
            " 0   Cidade                10692 non-null  object\n",
            " 1   Área (m2)             10692 non-null  int64 \n",
            " 2   Quartos               10692 non-null  int64 \n",
            " 3   Banheiro              10692 non-null  int64 \n",
            " 4   Vagas de Est.         10692 non-null  int64 \n",
            " 5   Andar                 10692 non-null  object\n",
            " 6   Permitido pets        10692 non-null  object\n",
            " 7   Mobiliado             10692 non-null  object\n",
            " 8   Taxa de Cond. (R$)    10692 non-null  int64 \n",
            " 9   Aluguel (R$)          10692 non-null  int64 \n",
            " 10  IPTU (R$)             10692 non-null  int64 \n",
            " 11  Seguro incêndio (R$)  10692 non-null  int64 \n",
            " 12  Total (R$)            10692 non-null  int64 \n",
            "dtypes: int64(9), object(4)\n",
            "memory usage: 1.1+ MB\n"
          ]
        }
      ],
      "source": [
        "df.info()"
      ]
    },
    {
      "attachments": {},
      "cell_type": "markdown",
      "id": "bacd0586",
      "metadata": {},
      "source": [
        "A variável 'Andar' deveria ser numérica e as variáveis 'Permitido pets' e 'Mobiliado' deveriam ser booleanas."
      ]
    },
    {
      "cell_type": "code",
      "execution_count": 102,
      "id": "e1068438",
      "metadata": {},
      "outputs": [
        {
          "data": {
            "text/plain": [
              "array(['7', '20', '6', '2', '1', '-', '4', '3', '10', '11', '24', '9',\n",
              "       '8', '17', '18', '5', '13', '15', '16', '14', '26', '12', '21',\n",
              "       '19', '22', '27', '23', '35', '25', '46', '28', '29', '301', '51',\n",
              "       '32'], dtype=object)"
            ]
          },
          "execution_count": 102,
          "metadata": {},
          "output_type": "execute_result"
        }
      ],
      "source": [
        "df.Andar.unique()"
      ]
    },
    {
      "attachments": {},
      "cell_type": "markdown",
      "id": "caaf98aa",
      "metadata": {},
      "source": [
        "A variável andar tem um valor '-', que indica que o imóvel não tem andar associado (ou seja, é uma casa e não um apartamento). Vamos substituir esses valores por zero e transformar essa coluna em inteira!"
      ]
    },
    {
      "cell_type": "code",
      "execution_count": 103,
      "id": "acf1b88c",
      "metadata": {},
      "outputs": [
        {
          "data": {
            "text/plain": [
              "0         7\n",
              "1        20\n",
              "2         6\n",
              "3         2\n",
              "4         1\n",
              "         ..\n",
              "10687     5\n",
              "10688    17\n",
              "10689     8\n",
              "10690     8\n",
              "10691     0\n",
              "Name: Andar, Length: 10692, dtype: int64"
            ]
          },
          "execution_count": 103,
          "metadata": {},
          "output_type": "execute_result"
        }
      ],
      "source": [
        "df.Andar = df.Andar.apply(lambda x: 0 if x == '-' else int(x))\n",
        "df.Andar.astype(int)\n",
        "df.Andar"
      ]
    },
    {
      "attachments": {},
      "cell_type": "markdown",
      "id": "78e38f7f",
      "metadata": {},
      "source": [
        "Optou-se por criar uma variável 'Apartamento' booleana, com 0 indicando casa e 1 indicando apartamento."
      ]
    },
    {
      "attachments": {},
      "cell_type": "markdown",
      "id": "66c15142",
      "metadata": {},
      "source": [
        "**Criando variável booleana Apartamento**"
      ]
    },
    {
      "cell_type": "code",
      "execution_count": 104,
      "id": "7e4e849a",
      "metadata": {},
      "outputs": [
        {
          "data": {
            "text/html": [
              "<div>\n",
              "<style scoped>\n",
              "    .dataframe tbody tr th:only-of-type {\n",
              "        vertical-align: middle;\n",
              "    }\n",
              "\n",
              "    .dataframe tbody tr th {\n",
              "        vertical-align: top;\n",
              "    }\n",
              "\n",
              "    .dataframe thead th {\n",
              "        text-align: right;\n",
              "    }\n",
              "</style>\n",
              "<table border=\"1\" class=\"dataframe\">\n",
              "  <thead>\n",
              "    <tr style=\"text-align: right;\">\n",
              "      <th></th>\n",
              "      <th>Cidade</th>\n",
              "      <th>Área (m2)</th>\n",
              "      <th>Quartos</th>\n",
              "      <th>Banheiro</th>\n",
              "      <th>Vagas de Est.</th>\n",
              "      <th>Andar</th>\n",
              "      <th>Permitido pets</th>\n",
              "      <th>Mobiliado</th>\n",
              "      <th>Taxa de Cond. (R$)</th>\n",
              "      <th>Aluguel (R$)</th>\n",
              "      <th>IPTU (R$)</th>\n",
              "      <th>Seguro incêndio (R$)</th>\n",
              "      <th>Total (R$)</th>\n",
              "      <th>Apartamento</th>\n",
              "    </tr>\n",
              "  </thead>\n",
              "  <tbody>\n",
              "    <tr>\n",
              "      <th>0</th>\n",
              "      <td>São Paulo</td>\n",
              "      <td>70</td>\n",
              "      <td>2</td>\n",
              "      <td>1</td>\n",
              "      <td>1</td>\n",
              "      <td>7</td>\n",
              "      <td>acept</td>\n",
              "      <td>furnished</td>\n",
              "      <td>2065</td>\n",
              "      <td>3300</td>\n",
              "      <td>211</td>\n",
              "      <td>42</td>\n",
              "      <td>5618</td>\n",
              "      <td>1</td>\n",
              "    </tr>\n",
              "    <tr>\n",
              "      <th>1</th>\n",
              "      <td>São Paulo</td>\n",
              "      <td>320</td>\n",
              "      <td>4</td>\n",
              "      <td>4</td>\n",
              "      <td>0</td>\n",
              "      <td>20</td>\n",
              "      <td>acept</td>\n",
              "      <td>not furnished</td>\n",
              "      <td>1200</td>\n",
              "      <td>4960</td>\n",
              "      <td>1750</td>\n",
              "      <td>63</td>\n",
              "      <td>7973</td>\n",
              "      <td>1</td>\n",
              "    </tr>\n",
              "    <tr>\n",
              "      <th>2</th>\n",
              "      <td>Porto Alegre</td>\n",
              "      <td>80</td>\n",
              "      <td>1</td>\n",
              "      <td>1</td>\n",
              "      <td>1</td>\n",
              "      <td>6</td>\n",
              "      <td>acept</td>\n",
              "      <td>not furnished</td>\n",
              "      <td>1000</td>\n",
              "      <td>2800</td>\n",
              "      <td>0</td>\n",
              "      <td>41</td>\n",
              "      <td>3841</td>\n",
              "      <td>1</td>\n",
              "    </tr>\n",
              "    <tr>\n",
              "      <th>3</th>\n",
              "      <td>Porto Alegre</td>\n",
              "      <td>51</td>\n",
              "      <td>2</td>\n",
              "      <td>1</td>\n",
              "      <td>0</td>\n",
              "      <td>2</td>\n",
              "      <td>acept</td>\n",
              "      <td>not furnished</td>\n",
              "      <td>270</td>\n",
              "      <td>1112</td>\n",
              "      <td>22</td>\n",
              "      <td>17</td>\n",
              "      <td>1421</td>\n",
              "      <td>1</td>\n",
              "    </tr>\n",
              "    <tr>\n",
              "      <th>4</th>\n",
              "      <td>São Paulo</td>\n",
              "      <td>25</td>\n",
              "      <td>1</td>\n",
              "      <td>1</td>\n",
              "      <td>0</td>\n",
              "      <td>1</td>\n",
              "      <td>not acept</td>\n",
              "      <td>not furnished</td>\n",
              "      <td>0</td>\n",
              "      <td>800</td>\n",
              "      <td>25</td>\n",
              "      <td>11</td>\n",
              "      <td>836</td>\n",
              "      <td>1</td>\n",
              "    </tr>\n",
              "    <tr>\n",
              "      <th>...</th>\n",
              "      <td>...</td>\n",
              "      <td>...</td>\n",
              "      <td>...</td>\n",
              "      <td>...</td>\n",
              "      <td>...</td>\n",
              "      <td>...</td>\n",
              "      <td>...</td>\n",
              "      <td>...</td>\n",
              "      <td>...</td>\n",
              "      <td>...</td>\n",
              "      <td>...</td>\n",
              "      <td>...</td>\n",
              "      <td>...</td>\n",
              "      <td>...</td>\n",
              "    </tr>\n",
              "    <tr>\n",
              "      <th>10687</th>\n",
              "      <td>Porto Alegre</td>\n",
              "      <td>63</td>\n",
              "      <td>2</td>\n",
              "      <td>1</td>\n",
              "      <td>1</td>\n",
              "      <td>5</td>\n",
              "      <td>not acept</td>\n",
              "      <td>furnished</td>\n",
              "      <td>402</td>\n",
              "      <td>1478</td>\n",
              "      <td>24</td>\n",
              "      <td>22</td>\n",
              "      <td>1926</td>\n",
              "      <td>1</td>\n",
              "    </tr>\n",
              "    <tr>\n",
              "      <th>10688</th>\n",
              "      <td>São Paulo</td>\n",
              "      <td>285</td>\n",
              "      <td>4</td>\n",
              "      <td>4</td>\n",
              "      <td>4</td>\n",
              "      <td>17</td>\n",
              "      <td>acept</td>\n",
              "      <td>not furnished</td>\n",
              "      <td>3100</td>\n",
              "      <td>15000</td>\n",
              "      <td>973</td>\n",
              "      <td>191</td>\n",
              "      <td>19260</td>\n",
              "      <td>1</td>\n",
              "    </tr>\n",
              "    <tr>\n",
              "      <th>10689</th>\n",
              "      <td>Rio de Janeiro</td>\n",
              "      <td>70</td>\n",
              "      <td>3</td>\n",
              "      <td>3</td>\n",
              "      <td>0</td>\n",
              "      <td>8</td>\n",
              "      <td>not acept</td>\n",
              "      <td>furnished</td>\n",
              "      <td>980</td>\n",
              "      <td>6000</td>\n",
              "      <td>332</td>\n",
              "      <td>78</td>\n",
              "      <td>7390</td>\n",
              "      <td>1</td>\n",
              "    </tr>\n",
              "    <tr>\n",
              "      <th>10690</th>\n",
              "      <td>Rio de Janeiro</td>\n",
              "      <td>120</td>\n",
              "      <td>2</td>\n",
              "      <td>2</td>\n",
              "      <td>2</td>\n",
              "      <td>8</td>\n",
              "      <td>acept</td>\n",
              "      <td>furnished</td>\n",
              "      <td>1585</td>\n",
              "      <td>12000</td>\n",
              "      <td>279</td>\n",
              "      <td>155</td>\n",
              "      <td>14020</td>\n",
              "      <td>1</td>\n",
              "    </tr>\n",
              "    <tr>\n",
              "      <th>10691</th>\n",
              "      <td>São Paulo</td>\n",
              "      <td>80</td>\n",
              "      <td>2</td>\n",
              "      <td>1</td>\n",
              "      <td>0</td>\n",
              "      <td>0</td>\n",
              "      <td>acept</td>\n",
              "      <td>not furnished</td>\n",
              "      <td>0</td>\n",
              "      <td>1400</td>\n",
              "      <td>165</td>\n",
              "      <td>22</td>\n",
              "      <td>1587</td>\n",
              "      <td>0</td>\n",
              "    </tr>\n",
              "  </tbody>\n",
              "</table>\n",
              "<p>10692 rows × 14 columns</p>\n",
              "</div>"
            ],
            "text/plain": [
              "               Cidade  Área (m2)  Quartos  Banheiro  Vagas de Est.  Andar  \\\n",
              "0           São Paulo         70        2         1              1      7   \n",
              "1           São Paulo        320        4         4              0     20   \n",
              "2        Porto Alegre         80        1         1              1      6   \n",
              "3        Porto Alegre         51        2         1              0      2   \n",
              "4           São Paulo         25        1         1              0      1   \n",
              "...               ...        ...      ...       ...            ...    ...   \n",
              "10687    Porto Alegre         63        2         1              1      5   \n",
              "10688       São Paulo        285        4         4              4     17   \n",
              "10689  Rio de Janeiro         70        3         3              0      8   \n",
              "10690  Rio de Janeiro        120        2         2              2      8   \n",
              "10691       São Paulo         80        2         1              0      0   \n",
              "\n",
              "      Permitido pets      Mobiliado  Taxa de Cond. (R$)  Aluguel (R$)  \\\n",
              "0              acept      furnished                2065          3300   \n",
              "1              acept  not furnished                1200          4960   \n",
              "2              acept  not furnished                1000          2800   \n",
              "3              acept  not furnished                 270          1112   \n",
              "4          not acept  not furnished                   0           800   \n",
              "...              ...            ...                 ...           ...   \n",
              "10687      not acept      furnished                 402          1478   \n",
              "10688          acept  not furnished                3100         15000   \n",
              "10689      not acept      furnished                 980          6000   \n",
              "10690          acept      furnished                1585         12000   \n",
              "10691          acept  not furnished                   0          1400   \n",
              "\n",
              "       IPTU (R$)  Seguro incêndio (R$)  Total (R$)  Apartamento  \n",
              "0            211                    42        5618            1  \n",
              "1           1750                    63        7973            1  \n",
              "2              0                    41        3841            1  \n",
              "3             22                    17        1421            1  \n",
              "4             25                    11         836            1  \n",
              "...          ...                   ...         ...          ...  \n",
              "10687         24                    22        1926            1  \n",
              "10688        973                   191       19260            1  \n",
              "10689        332                    78        7390            1  \n",
              "10690        279                   155       14020            1  \n",
              "10691        165                    22        1587            0  \n",
              "\n",
              "[10692 rows x 14 columns]"
            ]
          },
          "execution_count": 104,
          "metadata": {},
          "output_type": "execute_result"
        }
      ],
      "source": [
        "df['Apartamento'] = df['Andar'].apply(lambda x: 0 if x == 0 else 1)\n",
        "df"
      ]
    },
    {
      "attachments": {},
      "cell_type": "markdown",
      "id": "fe3b7d5f",
      "metadata": {},
      "source": [
        "**Transformando variável 'Permitido pets' em booleana**"
      ]
    },
    {
      "cell_type": "code",
      "execution_count": 105,
      "id": "086f1c5a",
      "metadata": {},
      "outputs": [
        {
          "data": {
            "text/plain": [
              "0        1\n",
              "1        1\n",
              "2        1\n",
              "3        1\n",
              "4        0\n",
              "        ..\n",
              "10687    0\n",
              "10688    1\n",
              "10689    0\n",
              "10690    1\n",
              "10691    1\n",
              "Name: Permitido pets, Length: 10692, dtype: int64"
            ]
          },
          "execution_count": 105,
          "metadata": {},
          "output_type": "execute_result"
        }
      ],
      "source": [
        "df['Permitido pets'] = df['Permitido pets'].apply(lambda x: 1 if x == 'acept' else 0)\n",
        "df['Permitido pets']\n"
      ]
    },
    {
      "attachments": {},
      "cell_type": "markdown",
      "id": "0312f3eb",
      "metadata": {},
      "source": [
        "**Transformando variável 'Mobiliado' em booleana**"
      ]
    },
    {
      "cell_type": "code",
      "execution_count": 106,
      "id": "950c5b8e",
      "metadata": {},
      "outputs": [
        {
          "data": {
            "text/plain": [
              "0        1\n",
              "1        0\n",
              "2        0\n",
              "3        0\n",
              "4        0\n",
              "        ..\n",
              "10687    1\n",
              "10688    0\n",
              "10689    1\n",
              "10690    1\n",
              "10691    0\n",
              "Name: Mobiliado, Length: 10692, dtype: int64"
            ]
          },
          "execution_count": 106,
          "metadata": {},
          "output_type": "execute_result"
        }
      ],
      "source": [
        "df['Mobiliado'] = df['Mobiliado'].apply(lambda x: 1 if x == 'furnished' else 0)\n",
        "df['Mobiliado']"
      ]
    },
    {
      "attachments": {},
      "cell_type": "markdown",
      "id": "810bdbef",
      "metadata": {},
      "source": [
        "**Renomeando as colunas**"
      ]
    },
    {
      "cell_type": "code",
      "execution_count": 107,
      "id": "d984100c",
      "metadata": {},
      "outputs": [],
      "source": [
        "df = df.rename(columns={'Área (m2)': 'Area', 'Vagas de Est.': 'Vagas_Est', 'Permitido pets': 'Permitido_pets', 'Taxa de Cond. (R$)':'Taxa_Cond', \n",
        "                   'Aluguel (R$)': 'Aluguel','IPTU (R$)': 'IPTU', 'Seguro incêndio (R$)': 'Seguro_incendio', 'Total (R$)': 'Total'})"
      ]
    },
    {
      "attachments": {},
      "cell_type": "markdown",
      "id": "bb8ceaea",
      "metadata": {},
      "source": [
        "**Quantidade de registros**"
      ]
    },
    {
      "cell_type": "code",
      "execution_count": 108,
      "id": "30e4cf83",
      "metadata": {},
      "outputs": [
        {
          "name": "stdout",
          "output_type": "stream",
          "text": [
            "O dataframe possui 10692 registros\n"
          ]
        }
      ],
      "source": [
        "print(f'O dataframe possui {df.shape[0]} registros')"
      ]
    },
    {
      "attachments": {},
      "cell_type": "markdown",
      "id": "d954cf9d",
      "metadata": {},
      "source": [
        "**Removendo linhas duplicadas**"
      ]
    },
    {
      "cell_type": "code",
      "execution_count": 109,
      "id": "45c78859",
      "metadata": {},
      "outputs": [
        {
          "name": "stdout",
          "output_type": "stream",
          "text": [
            "O dataframe agora possui 10334 registros\n"
          ]
        }
      ],
      "source": [
        "df = df.drop_duplicates()\n",
        "df = df.drop(columns=['Seguro_incendio','Total'])\n",
        "print(f'O dataframe agora possui {df.shape[0]} registros')"
      ]
    },
    {
      "attachments": {},
      "cell_type": "markdown",
      "id": "fa7fd232",
      "metadata": {},
      "source": [
        "**Verificando se existem dados nulos**"
      ]
    },
    {
      "cell_type": "code",
      "execution_count": 110,
      "id": "b42f2cd2",
      "metadata": {},
      "outputs": [
        {
          "data": {
            "text/html": [
              "<div>\n",
              "<style scoped>\n",
              "    .dataframe tbody tr th:only-of-type {\n",
              "        vertical-align: middle;\n",
              "    }\n",
              "\n",
              "    .dataframe tbody tr th {\n",
              "        vertical-align: top;\n",
              "    }\n",
              "\n",
              "    .dataframe thead th {\n",
              "        text-align: right;\n",
              "    }\n",
              "</style>\n",
              "<table border=\"1\" class=\"dataframe\">\n",
              "  <thead>\n",
              "    <tr style=\"text-align: right;\">\n",
              "      <th></th>\n",
              "      <th>Dados faltantes</th>\n",
              "    </tr>\n",
              "  </thead>\n",
              "  <tbody>\n",
              "    <tr>\n",
              "      <th>Cidade</th>\n",
              "      <td>0</td>\n",
              "    </tr>\n",
              "    <tr>\n",
              "      <th>Area</th>\n",
              "      <td>0</td>\n",
              "    </tr>\n",
              "    <tr>\n",
              "      <th>Quartos</th>\n",
              "      <td>0</td>\n",
              "    </tr>\n",
              "    <tr>\n",
              "      <th>Banheiro</th>\n",
              "      <td>0</td>\n",
              "    </tr>\n",
              "    <tr>\n",
              "      <th>Vagas_Est</th>\n",
              "      <td>0</td>\n",
              "    </tr>\n",
              "    <tr>\n",
              "      <th>Andar</th>\n",
              "      <td>0</td>\n",
              "    </tr>\n",
              "    <tr>\n",
              "      <th>Permitido_pets</th>\n",
              "      <td>0</td>\n",
              "    </tr>\n",
              "    <tr>\n",
              "      <th>Mobiliado</th>\n",
              "      <td>0</td>\n",
              "    </tr>\n",
              "    <tr>\n",
              "      <th>Taxa_Cond</th>\n",
              "      <td>0</td>\n",
              "    </tr>\n",
              "    <tr>\n",
              "      <th>Aluguel</th>\n",
              "      <td>0</td>\n",
              "    </tr>\n",
              "    <tr>\n",
              "      <th>IPTU</th>\n",
              "      <td>0</td>\n",
              "    </tr>\n",
              "    <tr>\n",
              "      <th>Apartamento</th>\n",
              "      <td>0</td>\n",
              "    </tr>\n",
              "  </tbody>\n",
              "</table>\n",
              "</div>"
            ],
            "text/plain": [
              "                Dados faltantes\n",
              "Cidade                        0\n",
              "Area                          0\n",
              "Quartos                       0\n",
              "Banheiro                      0\n",
              "Vagas_Est                     0\n",
              "Andar                         0\n",
              "Permitido_pets                0\n",
              "Mobiliado                     0\n",
              "Taxa_Cond                     0\n",
              "Aluguel                       0\n",
              "IPTU                          0\n",
              "Apartamento                   0"
            ]
          },
          "execution_count": 110,
          "metadata": {},
          "output_type": "execute_result"
        }
      ],
      "source": [
        "qtd_faltantes = df.isnull().sum()\n",
        "df_faltantes =  pd.DataFrame({'Dados faltantes': qtd_faltantes})\n",
        "pd.set_option('display.max_rows', 15)\n",
        "df_faltantes"
      ]
    },
    {
      "attachments": {},
      "cell_type": "markdown",
      "id": "d70b70cb",
      "metadata": {},
      "source": [
        "**Medidas descritivas das variáveis**"
      ]
    },
    {
      "cell_type": "code",
      "execution_count": 111,
      "id": "0a8130c1",
      "metadata": {},
      "outputs": [
        {
          "data": {
            "text/html": [
              "<div>\n",
              "<style scoped>\n",
              "    .dataframe tbody tr th:only-of-type {\n",
              "        vertical-align: middle;\n",
              "    }\n",
              "\n",
              "    .dataframe tbody tr th {\n",
              "        vertical-align: top;\n",
              "    }\n",
              "\n",
              "    .dataframe thead th {\n",
              "        text-align: right;\n",
              "    }\n",
              "</style>\n",
              "<table border=\"1\" class=\"dataframe\">\n",
              "  <thead>\n",
              "    <tr style=\"text-align: right;\">\n",
              "      <th></th>\n",
              "      <th>count</th>\n",
              "      <th>mean</th>\n",
              "      <th>std</th>\n",
              "      <th>min</th>\n",
              "      <th>25%</th>\n",
              "      <th>50%</th>\n",
              "      <th>75%</th>\n",
              "      <th>max</th>\n",
              "    </tr>\n",
              "  </thead>\n",
              "  <tbody>\n",
              "    <tr>\n",
              "      <th>Area</th>\n",
              "      <td>10334.0</td>\n",
              "      <td>152.439423</td>\n",
              "      <td>545.875595</td>\n",
              "      <td>11.0</td>\n",
              "      <td>59.00</td>\n",
              "      <td>95.0</td>\n",
              "      <td>190.00</td>\n",
              "      <td>46335.0</td>\n",
              "    </tr>\n",
              "    <tr>\n",
              "      <th>Quartos</th>\n",
              "      <td>10334.0</td>\n",
              "      <td>2.539965</td>\n",
              "      <td>1.168185</td>\n",
              "      <td>1.0</td>\n",
              "      <td>2.00</td>\n",
              "      <td>3.0</td>\n",
              "      <td>3.00</td>\n",
              "      <td>13.0</td>\n",
              "    </tr>\n",
              "    <tr>\n",
              "      <th>Banheiro</th>\n",
              "      <td>10334.0</td>\n",
              "      <td>2.268725</td>\n",
              "      <td>1.414650</td>\n",
              "      <td>1.0</td>\n",
              "      <td>1.00</td>\n",
              "      <td>2.0</td>\n",
              "      <td>3.00</td>\n",
              "      <td>10.0</td>\n",
              "    </tr>\n",
              "    <tr>\n",
              "      <th>Vagas_Est</th>\n",
              "      <td>10334.0</td>\n",
              "      <td>1.644475</td>\n",
              "      <td>1.598527</td>\n",
              "      <td>0.0</td>\n",
              "      <td>1.00</td>\n",
              "      <td>1.0</td>\n",
              "      <td>2.00</td>\n",
              "      <td>12.0</td>\n",
              "    </tr>\n",
              "    <tr>\n",
              "      <th>Andar</th>\n",
              "      <td>10334.0</td>\n",
              "      <td>5.100929</td>\n",
              "      <td>6.067906</td>\n",
              "      <td>0.0</td>\n",
              "      <td>1.00</td>\n",
              "      <td>3.0</td>\n",
              "      <td>8.00</td>\n",
              "      <td>301.0</td>\n",
              "    </tr>\n",
              "    <tr>\n",
              "      <th>Permitido_pets</th>\n",
              "      <td>10334.0</td>\n",
              "      <td>0.781498</td>\n",
              "      <td>0.413250</td>\n",
              "      <td>0.0</td>\n",
              "      <td>1.00</td>\n",
              "      <td>1.0</td>\n",
              "      <td>1.00</td>\n",
              "      <td>1.0</td>\n",
              "    </tr>\n",
              "    <tr>\n",
              "      <th>Mobiliado</th>\n",
              "      <td>10334.0</td>\n",
              "      <td>0.243371</td>\n",
              "      <td>0.429138</td>\n",
              "      <td>0.0</td>\n",
              "      <td>0.00</td>\n",
              "      <td>0.0</td>\n",
              "      <td>0.00</td>\n",
              "      <td>1.0</td>\n",
              "    </tr>\n",
              "    <tr>\n",
              "      <th>Taxa_Cond</th>\n",
              "      <td>10334.0</td>\n",
              "      <td>1091.243952</td>\n",
              "      <td>11446.092263</td>\n",
              "      <td>0.0</td>\n",
              "      <td>180.00</td>\n",
              "      <td>571.0</td>\n",
              "      <td>1286.75</td>\n",
              "      <td>1117000.0</td>\n",
              "    </tr>\n",
              "    <tr>\n",
              "      <th>Aluguel</th>\n",
              "      <td>10334.0</td>\n",
              "      <td>3966.296013</td>\n",
              "      <td>3436.190007</td>\n",
              "      <td>450.0</td>\n",
              "      <td>1598.25</td>\n",
              "      <td>2750.0</td>\n",
              "      <td>5000.00</td>\n",
              "      <td>45000.0</td>\n",
              "    </tr>\n",
              "    <tr>\n",
              "      <th>IPTU</th>\n",
              "      <td>10334.0</td>\n",
              "      <td>376.929263</td>\n",
              "      <td>3160.602165</td>\n",
              "      <td>0.0</td>\n",
              "      <td>41.00</td>\n",
              "      <td>130.0</td>\n",
              "      <td>389.75</td>\n",
              "      <td>313700.0</td>\n",
              "    </tr>\n",
              "    <tr>\n",
              "      <th>Apartamento</th>\n",
              "      <td>10334.0</td>\n",
              "      <td>0.770563</td>\n",
              "      <td>0.420491</td>\n",
              "      <td>0.0</td>\n",
              "      <td>1.00</td>\n",
              "      <td>1.0</td>\n",
              "      <td>1.00</td>\n",
              "      <td>1.0</td>\n",
              "    </tr>\n",
              "  </tbody>\n",
              "</table>\n",
              "</div>"
            ],
            "text/plain": [
              "                  count         mean           std    min      25%     50%  \\\n",
              "Area            10334.0   152.439423    545.875595   11.0    59.00    95.0   \n",
              "Quartos         10334.0     2.539965      1.168185    1.0     2.00     3.0   \n",
              "Banheiro        10334.0     2.268725      1.414650    1.0     1.00     2.0   \n",
              "Vagas_Est       10334.0     1.644475      1.598527    0.0     1.00     1.0   \n",
              "Andar           10334.0     5.100929      6.067906    0.0     1.00     3.0   \n",
              "Permitido_pets  10334.0     0.781498      0.413250    0.0     1.00     1.0   \n",
              "Mobiliado       10334.0     0.243371      0.429138    0.0     0.00     0.0   \n",
              "Taxa_Cond       10334.0  1091.243952  11446.092263    0.0   180.00   571.0   \n",
              "Aluguel         10334.0  3966.296013   3436.190007  450.0  1598.25  2750.0   \n",
              "IPTU            10334.0   376.929263   3160.602165    0.0    41.00   130.0   \n",
              "Apartamento     10334.0     0.770563      0.420491    0.0     1.00     1.0   \n",
              "\n",
              "                    75%        max  \n",
              "Area             190.00    46335.0  \n",
              "Quartos            3.00       13.0  \n",
              "Banheiro           3.00       10.0  \n",
              "Vagas_Est          2.00       12.0  \n",
              "Andar              8.00      301.0  \n",
              "Permitido_pets     1.00        1.0  \n",
              "Mobiliado          0.00        1.0  \n",
              "Taxa_Cond       1286.75  1117000.0  \n",
              "Aluguel         5000.00    45000.0  \n",
              "IPTU             389.75   313700.0  \n",
              "Apartamento        1.00        1.0  "
            ]
          },
          "execution_count": 111,
          "metadata": {},
          "output_type": "execute_result"
        }
      ],
      "source": [
        "df.describe().T"
      ]
    },
    {
      "attachments": {},
      "cell_type": "markdown",
      "id": "e168408a",
      "metadata": {},
      "source": [
        "## ANÁLISE DAS VARIÁVEIS"
      ]
    },
    {
      "attachments": {},
      "cell_type": "markdown",
      "id": "bee80aa6",
      "metadata": {},
      "source": [
        "**Nome das colunas**"
      ]
    },
    {
      "cell_type": "code",
      "execution_count": 112,
      "id": "4855e009",
      "metadata": {},
      "outputs": [
        {
          "data": {
            "text/plain": [
              "Index(['Cidade', 'Area', 'Quartos', 'Banheiro', 'Vagas_Est', 'Andar',\n",
              "       'Permitido_pets', 'Mobiliado', 'Taxa_Cond', 'Aluguel', 'IPTU',\n",
              "       'Apartamento'],\n",
              "      dtype='object')"
            ]
          },
          "execution_count": 112,
          "metadata": {},
          "output_type": "execute_result"
        }
      ],
      "source": [
        "df.columns"
      ]
    },
    {
      "attachments": {},
      "cell_type": "markdown",
      "id": "c1049dc8",
      "metadata": {},
      "source": [
        "**Separação das colunas por tipo**"
      ]
    },
    {
      "cell_type": "code",
      "execution_count": 113,
      "id": "b664bc15",
      "metadata": {},
      "outputs": [],
      "source": [
        "col_num = ['Area', 'Quartos', 'Banheiro', 'Vagas_Est', 'Andar', 'Taxa_Cond', 'Aluguel', 'IPTU']\n",
        "col_bool = ['Permitido_pets', 'Mobiliado','Apartamento']\n",
        "col_cat = ['Cidade']"
      ]
    },
    {
      "attachments": {},
      "cell_type": "markdown",
      "id": "f0d366e5",
      "metadata": {},
      "source": [
        "### Variáveis numéricas"
      ]
    },
    {
      "attachments": {},
      "cell_type": "markdown",
      "id": "73f3ef76",
      "metadata": {},
      "source": [
        "**Medidas descritivas das variáveis numéricas**"
      ]
    },
    {
      "cell_type": "code",
      "execution_count": 114,
      "id": "ae766c8a",
      "metadata": {},
      "outputs": [
        {
          "data": {
            "text/plain": [
              "count    10334.000000\n",
              "mean       152.439423\n",
              "std        545.875595\n",
              "min         11.000000\n",
              "25%         59.000000\n",
              "50%         95.000000\n",
              "75%        190.000000\n",
              "max      46335.000000\n",
              "Name: Area, dtype: float64"
            ]
          },
          "metadata": {},
          "output_type": "display_data"
        },
        {
          "name": "stdout",
          "output_type": "stream",
          "text": [
            "\n"
          ]
        },
        {
          "data": {
            "text/plain": [
              "count    10334.000000\n",
              "mean         2.539965\n",
              "std          1.168185\n",
              "min          1.000000\n",
              "25%          2.000000\n",
              "50%          3.000000\n",
              "75%          3.000000\n",
              "max         13.000000\n",
              "Name: Quartos, dtype: float64"
            ]
          },
          "metadata": {},
          "output_type": "display_data"
        },
        {
          "name": "stdout",
          "output_type": "stream",
          "text": [
            "\n"
          ]
        },
        {
          "data": {
            "text/plain": [
              "count    10334.000000\n",
              "mean         2.268725\n",
              "std          1.414650\n",
              "min          1.000000\n",
              "25%          1.000000\n",
              "50%          2.000000\n",
              "75%          3.000000\n",
              "max         10.000000\n",
              "Name: Banheiro, dtype: float64"
            ]
          },
          "metadata": {},
          "output_type": "display_data"
        },
        {
          "name": "stdout",
          "output_type": "stream",
          "text": [
            "\n"
          ]
        },
        {
          "data": {
            "text/plain": [
              "count    10334.000000\n",
              "mean         1.644475\n",
              "std          1.598527\n",
              "min          0.000000\n",
              "25%          1.000000\n",
              "50%          1.000000\n",
              "75%          2.000000\n",
              "max         12.000000\n",
              "Name: Vagas_Est, dtype: float64"
            ]
          },
          "metadata": {},
          "output_type": "display_data"
        },
        {
          "name": "stdout",
          "output_type": "stream",
          "text": [
            "\n"
          ]
        },
        {
          "data": {
            "text/plain": [
              "count    10334.000000\n",
              "mean         5.100929\n",
              "std          6.067906\n",
              "min          0.000000\n",
              "25%          1.000000\n",
              "50%          3.000000\n",
              "75%          8.000000\n",
              "max        301.000000\n",
              "Name: Andar, dtype: float64"
            ]
          },
          "metadata": {},
          "output_type": "display_data"
        },
        {
          "name": "stdout",
          "output_type": "stream",
          "text": [
            "\n"
          ]
        },
        {
          "data": {
            "text/plain": [
              "count    1.033400e+04\n",
              "mean     1.091244e+03\n",
              "std      1.144609e+04\n",
              "min      0.000000e+00\n",
              "25%      1.800000e+02\n",
              "50%      5.710000e+02\n",
              "75%      1.286750e+03\n",
              "max      1.117000e+06\n",
              "Name: Taxa_Cond, dtype: float64"
            ]
          },
          "metadata": {},
          "output_type": "display_data"
        },
        {
          "name": "stdout",
          "output_type": "stream",
          "text": [
            "\n"
          ]
        },
        {
          "data": {
            "text/plain": [
              "count    10334.000000\n",
              "mean      3966.296013\n",
              "std       3436.190007\n",
              "min        450.000000\n",
              "25%       1598.250000\n",
              "50%       2750.000000\n",
              "75%       5000.000000\n",
              "max      45000.000000\n",
              "Name: Aluguel, dtype: float64"
            ]
          },
          "metadata": {},
          "output_type": "display_data"
        },
        {
          "name": "stdout",
          "output_type": "stream",
          "text": [
            "\n"
          ]
        },
        {
          "data": {
            "text/plain": [
              "count     10334.000000\n",
              "mean        376.929263\n",
              "std        3160.602165\n",
              "min           0.000000\n",
              "25%          41.000000\n",
              "50%         130.000000\n",
              "75%         389.750000\n",
              "max      313700.000000\n",
              "Name: IPTU, dtype: float64"
            ]
          },
          "metadata": {},
          "output_type": "display_data"
        },
        {
          "name": "stdout",
          "output_type": "stream",
          "text": [
            "\n"
          ]
        }
      ],
      "source": [
        "for col in col_num:\n",
        "    display(df[col].describe())\n",
        "    print('')"
      ]
    },
    {
      "attachments": {},
      "cell_type": "markdown",
      "id": "db9e666a",
      "metadata": {},
      "source": [
        "**Distribuição das variáveis numéricas**"
      ]
    },
    {
      "cell_type": "code",
      "execution_count": 115,
      "id": "8b3e4b9e",
      "metadata": {},
      "outputs": [
        {
          "data": {
            "image/png": "[encoded data removed]",
            "text/plain": [
              "<Figure size 1200x2000 with 8 Axes>"
            ]
          },
          "metadata": {},
          "output_type": "display_data"
        }
      ],
      "source": [
        "fig, axes = plt.subplots(4, 2, figsize=(12, 20))\n",
        "for i in range(0,8):\n",
        "    sns.boxplot(ax=axes[i//2,i%2], data=df, x=col_num[i])\n",
        "plt.tight_layout()"
      ]
    },
    {
      "attachments": {},
      "cell_type": "markdown",
      "id": "bcce51b3",
      "metadata": {},
      "source": [
        "**Removendo anomalias**"
      ]
    },
    {
      "cell_type": "code",
      "execution_count": 116,
      "id": "16d2a08c",
      "metadata": {},
      "outputs": [],
      "source": [
        "df = df[df.Andar < 50] # Removendo andares maiores que 50\n",
        "df = df[df.Taxa_Cond < 20000] # Removendo taxa de condomínio maiores que 20000\n",
        "df = df[df.IPTU < 50000] # Removendo IPTU maiores que 50000"
      ]
    },
    {
      "attachments": {},
      "cell_type": "markdown",
      "id": "38437c54",
      "metadata": {},
      "source": [
        "**Removendo observações com IPTU = 0**"
      ]
    },
    {
      "cell_type": "code",
      "execution_count": 117,
      "id": "6186866c",
      "metadata": {},
      "outputs": [],
      "source": [
        "df = df[df.IPTU != 0]"
      ]
    },
    {
      "attachments": {},
      "cell_type": "markdown",
      "id": "014e9ec1",
      "metadata": {},
      "source": [
        "**Verificando a distribuição das variáveis após a remoção de anomalias**"
      ]
    },
    {
      "cell_type": "code",
      "execution_count": 118,
      "id": "38b1f8a0",
      "metadata": {},
      "outputs": [
        {
          "data": {
            "image/png": "[encoded data removed]",
            "text/plain": [
              "<Figure size 1200x2000 with 8 Axes>"
            ]
          },
          "metadata": {},
          "output_type": "display_data"
        }
      ],
      "source": [
        "fig, axes = plt.subplots(4, 2, figsize=(12, 20))\n",
        "for i in range(0,8):\n",
        "    sns.boxplot(ax=axes[i//2,i%2], data=df, x=col_num[i])\n",
        "plt.tight_layout()"
      ]
    },
    {
      "attachments": {},
      "cell_type": "markdown",
      "id": "5823aab8",
      "metadata": {},
      "source": [
        "**Distribuição de frequência das variáveis numéricas**"
      ]
    },
    {
      "cell_type": "code",
      "execution_count": 119,
      "id": "8f12de43",
      "metadata": {},
      "outputs": [
        {
          "data": {
            "image/png": "[encoded data removed]",
            "text/plain": [
              "<Figure size 1200x1800 with 8 Axes>"
            ]
          },
          "metadata": {},
          "output_type": "display_data"
        }
      ],
      "source": [
        "fig, axes = plt.subplots(4, 2, figsize=(12, 18))\n",
        "\n",
        "for i in range(0,8):\n",
        "    sns.histplot(ax=axes[i//2,i%2], data=df, x=col_num[i])\n",
        "plt.tight_layout()"
      ]
    },
    {
      "attachments": {},
      "cell_type": "markdown",
      "id": "759cf0ac",
      "metadata": {},
      "source": [
        "**Assimetria das variáveis numéricas**"
      ]
    },
    {
      "cell_type": "code",
      "execution_count": 120,
      "id": "e3f48f3c",
      "metadata": {},
      "outputs": [
        {
          "name": "stdout",
          "output_type": "stream",
          "text": [
            "Skewness das variáveis:\n",
            "Area : 63.90708707390644\n",
            "Quartos : 0.6336476062172806\n",
            "Banheiro : 1.0911505848409093\n",
            "Vagas_Est : 1.3935196695097118\n",
            "Andar : 1.3048789512216\n",
            "Taxa_Cond : 2.438560793119367\n",
            "Aluguel : 1.6953487245099692\n",
            "IPTU : 12.353159060963232\n"
          ]
        }
      ],
      "source": [
        "print('Skewness das variáveis:')\n",
        "for i in col_num:\n",
        "    print(i,':',df[i].skew()) #assimetria a direita"
      ]
    },
    {
      "attachments": {},
      "cell_type": "markdown",
      "id": "d9ae05bd",
      "metadata": {},
      "source": [
        "**Assimetria do Log das variáveis numéricas**"
      ]
    },
    {
      "cell_type": "code",
      "execution_count": 121,
      "id": "513a0b04",
      "metadata": {},
      "outputs": [
        {
          "name": "stdout",
          "output_type": "stream",
          "text": [
            "Skewness dos logs das variáveis:\n",
            "Log Area : 0.34110843751906217\n",
            "Log Quartos : -0.530566192487203\n",
            "Log Banheiro : 0.1780395881821674\n",
            "Log Vagas_Est : 0.47228971344616244\n",
            "Log Andar : -0.31052416826106133\n",
            "Log Taxa_Cond : -1.3259882561764207\n",
            "Log Aluguel : 0.12976683073192793\n",
            "Log IPTU : -0.24030714554302254\n"
          ]
        }
      ],
      "source": [
        "print('Skewness dos logs das variáveis:')\n",
        "for i in col_num:\n",
        "    print('Log',i,':',np.log10(df[i][df[i]>0]).skew()) #assimetria a direita"
      ]
    },
    {
      "attachments": {},
      "cell_type": "markdown",
      "id": "639c8275",
      "metadata": {},
      "source": [
        "**Métrica de localização**\n",
        "\n",
        "O IPTU é um imposto cujo valor é calculado por uma aliquota definida pela prefeitura para cada parte da cidade multiplicada pela área do imóvel. É de conhecimento geral que a valorização do imóvel (tanto pra venda, quanto para aluguel), depende tanto de sua localização quanto do imóvel em si, portanto, calcular essa alíquota do imóvel pode ser importante para a construção de um modelo mais interessante."
      ]
    },
    {
      "cell_type": "code",
      "execution_count": 122,
      "id": "d0658728",
      "metadata": {},
      "outputs": [
        {
          "data": {
            "text/html": [
              "<div>\n",
              "<style scoped>\n",
              "    .dataframe tbody tr th:only-of-type {\n",
              "        vertical-align: middle;\n",
              "    }\n",
              "\n",
              "    .dataframe tbody tr th {\n",
              "        vertical-align: top;\n",
              "    }\n",
              "\n",
              "    .dataframe thead th {\n",
              "        text-align: right;\n",
              "    }\n",
              "</style>\n",
              "<table border=\"1\" class=\"dataframe\">\n",
              "  <thead>\n",
              "    <tr style=\"text-align: right;\">\n",
              "      <th></th>\n",
              "      <th>Cidade</th>\n",
              "      <th>Area</th>\n",
              "      <th>Quartos</th>\n",
              "      <th>Banheiro</th>\n",
              "      <th>Vagas_Est</th>\n",
              "      <th>Andar</th>\n",
              "      <th>Permitido_pets</th>\n",
              "      <th>Mobiliado</th>\n",
              "      <th>Taxa_Cond</th>\n",
              "      <th>Aluguel</th>\n",
              "      <th>IPTU</th>\n",
              "      <th>Apartamento</th>\n",
              "      <th>aliquota</th>\n",
              "    </tr>\n",
              "  </thead>\n",
              "  <tbody>\n",
              "    <tr>\n",
              "      <th>0</th>\n",
              "      <td>São Paulo</td>\n",
              "      <td>70</td>\n",
              "      <td>2</td>\n",
              "      <td>1</td>\n",
              "      <td>1</td>\n",
              "      <td>7</td>\n",
              "      <td>1</td>\n",
              "      <td>1</td>\n",
              "      <td>2065</td>\n",
              "      <td>3300</td>\n",
              "      <td>211</td>\n",
              "      <td>1</td>\n",
              "      <td>3.014286</td>\n",
              "    </tr>\n",
              "    <tr>\n",
              "      <th>1</th>\n",
              "      <td>São Paulo</td>\n",
              "      <td>320</td>\n",
              "      <td>4</td>\n",
              "      <td>4</td>\n",
              "      <td>0</td>\n",
              "      <td>20</td>\n",
              "      <td>1</td>\n",
              "      <td>0</td>\n",
              "      <td>1200</td>\n",
              "      <td>4960</td>\n",
              "      <td>1750</td>\n",
              "      <td>1</td>\n",
              "      <td>5.468750</td>\n",
              "    </tr>\n",
              "    <tr>\n",
              "      <th>3</th>\n",
              "      <td>Porto Alegre</td>\n",
              "      <td>51</td>\n",
              "      <td>2</td>\n",
              "      <td>1</td>\n",
              "      <td>0</td>\n",
              "      <td>2</td>\n",
              "      <td>1</td>\n",
              "      <td>0</td>\n",
              "      <td>270</td>\n",
              "      <td>1112</td>\n",
              "      <td>22</td>\n",
              "      <td>1</td>\n",
              "      <td>0.431373</td>\n",
              "    </tr>\n",
              "    <tr>\n",
              "      <th>4</th>\n",
              "      <td>São Paulo</td>\n",
              "      <td>25</td>\n",
              "      <td>1</td>\n",
              "      <td>1</td>\n",
              "      <td>0</td>\n",
              "      <td>1</td>\n",
              "      <td>0</td>\n",
              "      <td>0</td>\n",
              "      <td>0</td>\n",
              "      <td>800</td>\n",
              "      <td>25</td>\n",
              "      <td>1</td>\n",
              "      <td>1.000000</td>\n",
              "    </tr>\n",
              "    <tr>\n",
              "      <th>5</th>\n",
              "      <td>São Paulo</td>\n",
              "      <td>376</td>\n",
              "      <td>3</td>\n",
              "      <td>3</td>\n",
              "      <td>7</td>\n",
              "      <td>0</td>\n",
              "      <td>1</td>\n",
              "      <td>0</td>\n",
              "      <td>0</td>\n",
              "      <td>8000</td>\n",
              "      <td>834</td>\n",
              "      <td>0</td>\n",
              "      <td>2.218085</td>\n",
              "    </tr>\n",
              "  </tbody>\n",
              "</table>\n",
              "</div>"
            ],
            "text/plain": [
              "         Cidade  Area  Quartos  Banheiro  Vagas_Est  Andar  Permitido_pets  \\\n",
              "0     São Paulo    70        2         1          1      7               1   \n",
              "1     São Paulo   320        4         4          0     20               1   \n",
              "3  Porto Alegre    51        2         1          0      2               1   \n",
              "4     São Paulo    25        1         1          0      1               0   \n",
              "5     São Paulo   376        3         3          7      0               1   \n",
              "\n",
              "   Mobiliado  Taxa_Cond  Aluguel  IPTU  Apartamento  aliquota  \n",
              "0          1       2065     3300   211            1  3.014286  \n",
              "1          0       1200     4960  1750            1  5.468750  \n",
              "3          0        270     1112    22            1  0.431373  \n",
              "4          0          0      800    25            1  1.000000  \n",
              "5          0          0     8000   834            0  2.218085  "
            ]
          },
          "execution_count": 122,
          "metadata": {},
          "output_type": "execute_result"
        }
      ],
      "source": [
        "df['aliquota'] = df['IPTU']/df['Area']\n",
        "df.head()"
      ]
    },
    {
      "cell_type": "code",
      "execution_count": 123,
      "id": "6c41ae0f",
      "metadata": {},
      "outputs": [
        {
          "data": {
            "image/png": "[encoded data removed]",
            "text/plain": [
              "<Figure size 640x480 with 1 Axes>"
            ]
          },
          "metadata": {},
          "output_type": "display_data"
        },
        {
          "data": {
            "image/png": "[encoded data removed]",
            "text/plain": [
              "<Figure size 640x480 with 1 Axes>"
            ]
          },
          "metadata": {},
          "output_type": "display_data"
        }
      ],
      "source": [
        "sns.boxplot(data=df, x='aliquota')\n",
        "plt.show()\n",
        "\n",
        "sns.histplot(data=df[df.aliquota <10], x='aliquota')\n",
        "plt.show()\n"
      ]
    },
    {
      "attachments": {},
      "cell_type": "markdown",
      "id": "6db3890a",
      "metadata": {},
      "source": [
        "**Tabela de correlação entre variáveis numéricas**"
      ]
    },
    {
      "cell_type": "code",
      "execution_count": 124,
      "id": "aadc4971",
      "metadata": {},
      "outputs": [
        {
          "data": {
            "text/html": [
              "<div>\n",
              "<style scoped>\n",
              "    .dataframe tbody tr th:only-of-type {\n",
              "        vertical-align: middle;\n",
              "    }\n",
              "\n",
              "    .dataframe tbody tr th {\n",
              "        vertical-align: top;\n",
              "    }\n",
              "\n",
              "    .dataframe thead th {\n",
              "        text-align: right;\n",
              "    }\n",
              "</style>\n",
              "<table border=\"1\" class=\"dataframe\">\n",
              "  <thead>\n",
              "    <tr style=\"text-align: right;\">\n",
              "      <th></th>\n",
              "      <th>Area</th>\n",
              "      <th>Quartos</th>\n",
              "      <th>Banheiro</th>\n",
              "      <th>Vagas_Est</th>\n",
              "      <th>Andar</th>\n",
              "      <th>Permitido_pets</th>\n",
              "      <th>Mobiliado</th>\n",
              "      <th>Taxa_Cond</th>\n",
              "      <th>Aluguel</th>\n",
              "      <th>IPTU</th>\n",
              "      <th>Apartamento</th>\n",
              "      <th>aliquota</th>\n",
              "    </tr>\n",
              "  </thead>\n",
              "  <tbody>\n",
              "    <tr>\n",
              "      <th>Area</th>\n",
              "      <td>1.000000</td>\n",
              "      <td>0.182231</td>\n",
              "      <td>0.216015</td>\n",
              "      <td>0.182433</td>\n",
              "      <td>-0.017164</td>\n",
              "      <td>0.034296</td>\n",
              "      <td>0.009120</td>\n",
              "      <td>0.072205</td>\n",
              "      <td>0.169128</td>\n",
              "      <td>0.179150</td>\n",
              "      <td>-0.087810</td>\n",
              "      <td>0.008294</td>\n",
              "    </tr>\n",
              "    <tr>\n",
              "      <th>Quartos</th>\n",
              "      <td>0.182231</td>\n",
              "      <td>1.000000</td>\n",
              "      <td>0.722531</td>\n",
              "      <td>0.597815</td>\n",
              "      <td>-0.119038</td>\n",
              "      <td>0.144382</td>\n",
              "      <td>-0.079249</td>\n",
              "      <td>0.261005</td>\n",
              "      <td>0.522539</td>\n",
              "      <td>0.391221</td>\n",
              "      <td>-0.293339</td>\n",
              "      <td>0.075871</td>\n",
              "    </tr>\n",
              "    <tr>\n",
              "      <th>Banheiro</th>\n",
              "      <td>0.216015</td>\n",
              "      <td>0.722531</td>\n",
              "      <td>1.000000</td>\n",
              "      <td>0.684137</td>\n",
              "      <td>-0.009271</td>\n",
              "      <td>0.098956</td>\n",
              "      <td>0.018983</td>\n",
              "      <td>0.395225</td>\n",
              "      <td>0.657257</td>\n",
              "      <td>0.506586</td>\n",
              "      <td>-0.254700</td>\n",
              "      <td>0.144263</td>\n",
              "    </tr>\n",
              "    <tr>\n",
              "      <th>Vagas_Est</th>\n",
              "      <td>0.182433</td>\n",
              "      <td>0.597815</td>\n",
              "      <td>0.684137</td>\n",
              "      <td>1.000000</td>\n",
              "      <td>-0.050885</td>\n",
              "      <td>0.108654</td>\n",
              "      <td>-0.010511</td>\n",
              "      <td>0.260507</td>\n",
              "      <td>0.558962</td>\n",
              "      <td>0.462222</td>\n",
              "      <td>-0.326073</td>\n",
              "      <td>0.132359</td>\n",
              "    </tr>\n",
              "    <tr>\n",
              "      <th>Andar</th>\n",
              "      <td>-0.017164</td>\n",
              "      <td>-0.119038</td>\n",
              "      <td>-0.009271</td>\n",
              "      <td>-0.050885</td>\n",
              "      <td>1.000000</td>\n",
              "      <td>-0.060674</td>\n",
              "      <td>0.138835</td>\n",
              "      <td>0.351698</td>\n",
              "      <td>0.073671</td>\n",
              "      <td>0.054202</td>\n",
              "      <td>0.524354</td>\n",
              "      <td>0.105687</td>\n",
              "    </tr>\n",
              "    <tr>\n",
              "      <th>Permitido_pets</th>\n",
              "      <td>0.034296</td>\n",
              "      <td>0.144382</td>\n",
              "      <td>0.098956</td>\n",
              "      <td>0.108654</td>\n",
              "      <td>-0.060674</td>\n",
              "      <td>1.000000</td>\n",
              "      <td>-0.089667</td>\n",
              "      <td>-0.003755</td>\n",
              "      <td>0.046252</td>\n",
              "      <td>0.050755</td>\n",
              "      <td>-0.071676</td>\n",
              "      <td>-0.011244</td>\n",
              "    </tr>\n",
              "    <tr>\n",
              "      <th>Mobiliado</th>\n",
              "      <td>0.009120</td>\n",
              "      <td>-0.079249</td>\n",
              "      <td>0.018983</td>\n",
              "      <td>-0.010511</td>\n",
              "      <td>0.138835</td>\n",
              "      <td>-0.089667</td>\n",
              "      <td>1.000000</td>\n",
              "      <td>0.119906</td>\n",
              "      <td>0.164086</td>\n",
              "      <td>0.024654</td>\n",
              "      <td>0.128292</td>\n",
              "      <td>0.064494</td>\n",
              "    </tr>\n",
              "    <tr>\n",
              "      <th>Taxa_Cond</th>\n",
              "      <td>0.072205</td>\n",
              "      <td>0.261005</td>\n",
              "      <td>0.395225</td>\n",
              "      <td>0.260507</td>\n",
              "      <td>0.351698</td>\n",
              "      <td>-0.003755</td>\n",
              "      <td>0.119906</td>\n",
              "      <td>1.000000</td>\n",
              "      <td>0.429731</td>\n",
              "      <td>0.424745</td>\n",
              "      <td>0.396430</td>\n",
              "      <td>0.228109</td>\n",
              "    </tr>\n",
              "    <tr>\n",
              "      <th>Aluguel</th>\n",
              "      <td>0.169128</td>\n",
              "      <td>0.522539</td>\n",
              "      <td>0.657257</td>\n",
              "      <td>0.558962</td>\n",
              "      <td>0.073671</td>\n",
              "      <td>0.046252</td>\n",
              "      <td>0.164086</td>\n",
              "      <td>0.429731</td>\n",
              "      <td>1.000000</td>\n",
              "      <td>0.510051</td>\n",
              "      <td>-0.196374</td>\n",
              "      <td>0.180509</td>\n",
              "    </tr>\n",
              "    <tr>\n",
              "      <th>IPTU</th>\n",
              "      <td>0.179150</td>\n",
              "      <td>0.391221</td>\n",
              "      <td>0.506586</td>\n",
              "      <td>0.462222</td>\n",
              "      <td>0.054202</td>\n",
              "      <td>0.050755</td>\n",
              "      <td>0.024654</td>\n",
              "      <td>0.424745</td>\n",
              "      <td>0.510051</td>\n",
              "      <td>1.000000</td>\n",
              "      <td>-0.097975</td>\n",
              "      <td>0.661458</td>\n",
              "    </tr>\n",
              "    <tr>\n",
              "      <th>Apartamento</th>\n",
              "      <td>-0.087810</td>\n",
              "      <td>-0.293339</td>\n",
              "      <td>-0.254700</td>\n",
              "      <td>-0.326073</td>\n",
              "      <td>0.524354</td>\n",
              "      <td>-0.071676</td>\n",
              "      <td>0.128292</td>\n",
              "      <td>0.396430</td>\n",
              "      <td>-0.196374</td>\n",
              "      <td>-0.097975</td>\n",
              "      <td>1.000000</td>\n",
              "      <td>0.055252</td>\n",
              "    </tr>\n",
              "    <tr>\n",
              "      <th>aliquota</th>\n",
              "      <td>0.008294</td>\n",
              "      <td>0.075871</td>\n",
              "      <td>0.144263</td>\n",
              "      <td>0.132359</td>\n",
              "      <td>0.105687</td>\n",
              "      <td>-0.011244</td>\n",
              "      <td>0.064494</td>\n",
              "      <td>0.228109</td>\n",
              "      <td>0.180509</td>\n",
              "      <td>0.661458</td>\n",
              "      <td>0.055252</td>\n",
              "      <td>1.000000</td>\n",
              "    </tr>\n",
              "  </tbody>\n",
              "</table>\n",
              "</div>"
            ],
            "text/plain": [
              "                    Area   Quartos  Banheiro  Vagas_Est     Andar  \\\n",
              "Area            1.000000  0.182231  0.216015   0.182433 -0.017164   \n",
              "Quartos         0.182231  1.000000  0.722531   0.597815 -0.119038   \n",
              "Banheiro        0.216015  0.722531  1.000000   0.684137 -0.009271   \n",
              "Vagas_Est       0.182433  0.597815  0.684137   1.000000 -0.050885   \n",
              "Andar          -0.017164 -0.119038 -0.009271  -0.050885  1.000000   \n",
              "Permitido_pets  0.034296  0.144382  0.098956   0.108654 -0.060674   \n",
              "Mobiliado       0.009120 -0.079249  0.018983  -0.010511  0.138835   \n",
              "Taxa_Cond       0.072205  0.261005  0.395225   0.260507  0.351698   \n",
              "Aluguel         0.169128  0.522539  0.657257   0.558962  0.073671   \n",
              "IPTU            0.179150  0.391221  0.506586   0.462222  0.054202   \n",
              "Apartamento    -0.087810 -0.293339 -0.254700  -0.326073  0.524354   \n",
              "aliquota        0.008294  0.075871  0.144263   0.132359  0.105687   \n",
              "\n",
              "                Permitido_pets  Mobiliado  Taxa_Cond   Aluguel      IPTU  \\\n",
              "Area                  0.034296   0.009120   0.072205  0.169128  0.179150   \n",
              "Quartos               0.144382  -0.079249   0.261005  0.522539  0.391221   \n",
              "Banheiro              0.098956   0.018983   0.395225  0.657257  0.506586   \n",
              "Vagas_Est             0.108654  -0.010511   0.260507  0.558962  0.462222   \n",
              "Andar                -0.060674   0.138835   0.351698  0.073671  0.054202   \n",
              "Permitido_pets        1.000000  -0.089667  -0.003755  0.046252  0.050755   \n",
              "Mobiliado            -0.089667   1.000000   0.119906  0.164086  0.024654   \n",
              "Taxa_Cond            -0.003755   0.119906   1.000000  0.429731  0.424745   \n",
              "Aluguel               0.046252   0.164086   0.429731  1.000000  0.510051   \n",
              "IPTU                  0.050755   0.024654   0.424745  0.510051  1.000000   \n",
              "Apartamento          -0.071676   0.128292   0.396430 -0.196374 -0.097975   \n",
              "aliquota             -0.011244   0.064494   0.228109  0.180509  0.661458   \n",
              "\n",
              "                Apartamento  aliquota  \n",
              "Area              -0.087810  0.008294  \n",
              "Quartos           -0.293339  0.075871  \n",
              "Banheiro          -0.254700  0.144263  \n",
              "Vagas_Est         -0.326073  0.132359  \n",
              "Andar              0.524354  0.105687  \n",
              "Permitido_pets    -0.071676 -0.011244  \n",
              "Mobiliado          0.128292  0.064494  \n",
              "Taxa_Cond          0.396430  0.228109  \n",
              "Aluguel           -0.196374  0.180509  \n",
              "IPTU              -0.097975  0.661458  \n",
              "Apartamento        1.000000  0.055252  \n",
              "aliquota           0.055252  1.000000  "
            ]
          },
          "metadata": {},
          "output_type": "display_data"
        }
      ],
      "source": [
        "correlacao = df.corr(numeric_only=True)\n",
        "display(correlacao)"
      ]
    },
    {
      "attachments": {},
      "cell_type": "markdown",
      "id": "6ca15dda",
      "metadata": {},
      "source": [
        "**Heatmap da correlação das variáveis numéricas**"
      ]
    },
    {
      "cell_type": "code",
      "execution_count": 125,
      "id": "26ca6f9c",
      "metadata": {},
      "outputs": [
        {
          "data": {
            "text/plain": [
              "<AxesSubplot: >"
            ]
          },
          "execution_count": 125,
          "metadata": {},
          "output_type": "execute_result"
        },
        {
          "data": {
            "image/png": "[encoded data removed]",
            "text/plain": [
              "<Figure size 1300x1000 with 2 Axes>"
            ]
          },
          "metadata": {},
          "output_type": "display_data"
        }
      ],
      "source": [
        "plt.figure(figsize=(13, 10))\n",
        "sns.heatmap(correlacao)"
      ]
    },
    {
      "cell_type": "code",
      "execution_count": 126,
      "id": "af817653",
      "metadata": {},
      "outputs": [
        {
          "data": {
            "text/plain": [
              "Aluguel           1.000000\n",
              "Banheiro          0.657257\n",
              "Vagas_Est         0.558962\n",
              "Quartos           0.522539\n",
              "IPTU              0.510051\n",
              "Taxa_Cond         0.429731\n",
              "aliquota          0.180509\n",
              "Area              0.169128\n",
              "Mobiliado         0.164086\n",
              "Andar             0.073671\n",
              "Permitido_pets    0.046252\n",
              "Apartamento      -0.196374\n",
              "Name: Aluguel, dtype: float64"
            ]
          },
          "execution_count": 126,
          "metadata": {},
          "output_type": "execute_result"
        }
      ],
      "source": [
        "(correlacao['Aluguel']).sort_values(ascending = False)"
      ]
    },
    {
      "attachments": {},
      "cell_type": "markdown",
      "id": "d029a2ec",
      "metadata": {},
      "source": [
        "Os atributos que apresentam maior correlação com a variável 'Aluguel' (positiva e negativa) são:\n",
        "* Banheiro\n",
        "* Vagas_Est\n",
        "* Quartos\n",
        "* IPTU\n",
        "* Taxa_Cond\n",
        "\n",
        "\\\n",
        " Após tratamento de dados notou-se que a Taxa de condomínio apresenta uma boa correlação, enquanto a aliquota não apresentou o resultado esperado."
      ]
    },
    {
      "attachments": {},
      "cell_type": "markdown",
      "id": "af6e7ef2",
      "metadata": {},
      "source": [
        "**Quantidade de observações por cidade**"
      ]
    },
    {
      "cell_type": "code",
      "execution_count": 127,
      "id": "bf28a798",
      "metadata": {},
      "outputs": [
        {
          "name": "stdout",
          "output_type": "stream",
          "text": [
            "São Paulo 4733\n",
            "Porto Alegre 1031\n",
            "Rio de Janeiro 1274\n",
            "Campinas 733\n",
            "Belo Horizonte 1075\n"
          ]
        }
      ],
      "source": [
        "for i in df.Cidade.unique():\n",
        "    print(i,df[df.Cidade==i].shape[0])"
      ]
    },
    {
      "attachments": {},
      "cell_type": "markdown",
      "id": "18406a55-0333-424b-83e0-707c010c4913",
      "metadata": {
        "id": "18406a55-0333-424b-83e0-707c010c4913",
        "tags": []
      },
      "source": [
        "## MODELAGEM\n",
        "\n",
        "- Problema: regressão. Desejamos estimar o valor de aluguel dadas as características do imóvel.\n",
        "- Vamos utilizar uma regressão linear para resolver este problema!"
      ]
    },
    {
      "attachments": {},
      "cell_type": "markdown",
      "id": "9ca745e0",
      "metadata": {},
      "source": [
        "**Importando a classe do estimador**"
      ]
    },
    {
      "cell_type": "code",
      "execution_count": 128,
      "id": "7543082a-742b-4cda-bcf5-a589a696625c",
      "metadata": {
        "id": "7543082a-742b-4cda-bcf5-a589a696625c"
      },
      "outputs": [],
      "source": [
        "# Importe aqui ..."
      ]
    },
    {
      "cell_type": "code",
      "execution_count": 129,
      "id": "660109f0-f98f-4b50-810e-7727d8037de2",
      "metadata": {
        "id": "660109f0-f98f-4b50-810e-7727d8037de2",
        "tags": []
      },
      "outputs": [],
      "source": [
        "# Código aqui ..."
      ]
    },
    {
      "attachments": {},
      "cell_type": "markdown",
      "id": "c776bd3e-669d-4941-a1e5-d10d5daf6d3c",
      "metadata": {
        "id": "c776bd3e-669d-4941-a1e5-d10d5daf6d3c"
      },
      "source": [
        "#### 5. Use o modelo treinado para **fazer previsões** usando os **dados de teste** (ou **de validação**)"
      ]
    },
    {
      "cell_type": "code",
      "execution_count": 130,
      "id": "a0320fc7-b6e4-41ad-8b59-0b91ffb6eca7",
      "metadata": {
        "id": "a0320fc7-b6e4-41ad-8b59-0b91ffb6eca7",
        "tags": []
      },
      "outputs": [],
      "source": [
        "# Código aqui ..."
      ]
    },
    {
      "attachments": {},
      "cell_type": "markdown",
      "id": "19cb5a70-7985-4d36-9ba3-077f97bee976",
      "metadata": {
        "id": "19cb5a70-7985-4d36-9ba3-077f97bee976"
      },
      "source": [
        "#### 6. **Avalie a performance do modelo com base nas previsões acima**\n",
        "\n",
        "Lembre que você pode treinar e avaliar muito modelos, e no final escolher aquele que teve melhor performance respeito à metrica escolhida."
      ]
    },
    {
      "cell_type": "code",
      "execution_count": 131,
      "id": "f742e47b-c09f-41f6-8bc9-b3c4ba926812",
      "metadata": {
        "id": "f742e47b-c09f-41f6-8bc9-b3c4ba926812",
        "tags": []
      },
      "outputs": [],
      "source": [
        "# Código aqui ..."
      ]
    }
  ],
  "metadata": {
    "colab": {
      "provenance": []
    },
    "kernelspec": {
      "display_name": "Python 3 (ipykernel)",
      "language": "python",
      "name": "python3"
    },
    "language_info": {
      "codemirror_mode": {
        "name": "ipython",
        "version": 3
      },
      "file_extension": ".py",
      "mimetype": "text/x-python",
      "name": "python",
      "nbconvert_exporter": "python",
      "pygments_lexer": "ipython3",
      "version": "3.11.2"
    },
    "varInspector": {
      "cols": {
        "lenName": 16,
        "lenType": 16,
        "lenVar": 40
      },
      "kernels_config": {
        "python": {
          "delete_cmd_postfix": "",
          "delete_cmd_prefix": "del ",
          "library": "var_list.py",
          "varRefreshCmd": "print(var_dic_list())"
        },
        "r": {
          "delete_cmd_postfix": ") ",
          "delete_cmd_prefix": "rm(",
          "library": "var_list.r",
          "varRefreshCmd": "cat(var_dic_list()) "
        }
      },
      "types_to_exclude": [
        "module",
        "function",
        "builtin_function_or_method",
        "instance",
        "_Feature"
      ],
      "window_display": false
    }
  },
  "nbformat": 4,
  "nbformat_minor": 5
}
