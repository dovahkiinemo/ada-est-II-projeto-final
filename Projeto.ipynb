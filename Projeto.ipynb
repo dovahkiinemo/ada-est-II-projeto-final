{
  "cells": [
    {
      "attachments": {},
      "cell_type": "markdown",
      "id": "23acbec8",
      "metadata": {
        "id": "23acbec8"
      },
      "source": [
        "# Projeto Estatística II - Grupo 3\n",
        "Grupo: Alex Moulin, Antonio Zanutto, Carolina Yumi, Gabriel Mourão, Haroldo Viana, Rafael RIbeiro e Thaís Falcão"
      ]
    },
    {
      "attachments": {},
      "cell_type": "markdown",
      "id": "8432dcba",
      "metadata": {
        "id": "8432dcba"
      },
      "source": [
        "## BRAIN STORM\n",
        "\n",
        "- Objetivo deste projeto é lidar com um problema real e tentar resolvê-lo utilizando um modelo de regressão.\n",
        "- Realizamos uma análise abrangente, explicando cada etapa e justificando cada ação escolhida.\n",
        "- Incluímos gráficos e tabelas comparativas para auxiliar na visualização dos dados."
      ]
    },
    {
      "attachments": {},
      "cell_type": "markdown",
      "id": "7d2f46d9",
      "metadata": {
        "id": "7d2f46d9"
      },
      "source": [
        "## BASE DE DADOS\n",
        "\n",
        "A base de dados escolhida foi obtida no Kaggle e pode ser verificada <a href=\"https://www.kaggle.com/datasets/rubenssjr/brasilian-houses-to-rent?select=houses_to_rent_v2.csv\" target=\"_blank\">clicando aqui</a>.\n",
        "\n",
        "A base de dados é composta pelas seguintes características de imóveis:\n",
        "- Cidade do imóvel\n",
        "- Área (m²) do imóvel\n",
        "- Quantidade de quartos\n",
        "- Quantidade de banheiros\n",
        "- Quantidade de vagas de estacionamento\n",
        "- Andar em que o imóvel está localizado\n",
        "- Se é permitido ter animais de estimação\n",
        "- Se é mobiliado ou não\n",
        "- Taxa de condomínio (R$)\n",
        "- Aluguel (R$)\n",
        "- IPTU (R$)\n",
        "- Seguro contra incêndio (R$)\n",
        "- Total (R$)"
      ]
    },
    {
      "attachments": {},
      "cell_type": "markdown",
      "id": "a6793b12",
      "metadata": {
        "id": "a6793b12"
      },
      "source": [
        "## INICIANDO O PROJETO"
      ]
    },
    {
      "attachments": {},
      "cell_type": "markdown",
      "id": "633bdebf",
      "metadata": {
        "id": "633bdebf"
      },
      "source": [
        "**Carregando as bibliotecas**"
      ]
    },
    {
      "cell_type": "code",
      "execution_count": 69,
      "id": "1ea5048a",
      "metadata": {
        "ExecuteTime": {
          "end_time": "2022-07-19T23:43:06.122155Z",
          "start_time": "2022-07-19T23:43:01.924164Z"
        },
        "id": "1ea5048a"
      },
      "outputs": [],
      "source": [
        "import pandas as pd\n",
        "import numpy as np\n",
        "import matplotlib.pyplot as plt\n",
        "import seaborn as sns"
      ]
    },
    {
      "attachments": {},
      "cell_type": "markdown",
      "id": "8ef5ea6c",
      "metadata": {},
      "source": [
        "**Carregando a base de dados**"
      ]
    },
    {
      "cell_type": "code",
      "execution_count": 70,
      "id": "ae8301aa",
      "metadata": {
        "ExecuteTime": {
          "end_time": "2022-07-19T23:59:05.345615Z",
          "start_time": "2022-07-19T23:59:05.330657Z"
        },
        "id": "ae8301aa"
      },
      "outputs": [
        {
          "data": {
            "text/html": [
              "<div>\n",
              "<style scoped>\n",
              "    .dataframe tbody tr th:only-of-type {\n",
              "        vertical-align: middle;\n",
              "    }\n",
              "\n",
              "    .dataframe tbody tr th {\n",
              "        vertical-align: top;\n",
              "    }\n",
              "\n",
              "    .dataframe thead th {\n",
              "        text-align: right;\n",
              "    }\n",
              "</style>\n",
              "<table border=\"1\" class=\"dataframe\">\n",
              "  <thead>\n",
              "    <tr style=\"text-align: right;\">\n",
              "      <th></th>\n",
              "      <th>Cidade</th>\n",
              "      <th>Área (m2)</th>\n",
              "      <th>Quartos</th>\n",
              "      <th>Banheiro</th>\n",
              "      <th>Vagas de Est.</th>\n",
              "      <th>Andar</th>\n",
              "      <th>Permitido pets</th>\n",
              "      <th>Mobiliado</th>\n",
              "      <th>Taxa de Cond. (R$)</th>\n",
              "      <th>Aluguel (R$)</th>\n",
              "      <th>IPTU (R$)</th>\n",
              "      <th>Seguro incêndio (R$)</th>\n",
              "      <th>Total (R$)</th>\n",
              "    </tr>\n",
              "  </thead>\n",
              "  <tbody>\n",
              "    <tr>\n",
              "      <th>0</th>\n",
              "      <td>São Paulo</td>\n",
              "      <td>70</td>\n",
              "      <td>2</td>\n",
              "      <td>1</td>\n",
              "      <td>1</td>\n",
              "      <td>7</td>\n",
              "      <td>acept</td>\n",
              "      <td>furnished</td>\n",
              "      <td>2065</td>\n",
              "      <td>3300</td>\n",
              "      <td>211</td>\n",
              "      <td>42</td>\n",
              "      <td>5618</td>\n",
              "    </tr>\n",
              "    <tr>\n",
              "      <th>1</th>\n",
              "      <td>São Paulo</td>\n",
              "      <td>320</td>\n",
              "      <td>4</td>\n",
              "      <td>4</td>\n",
              "      <td>0</td>\n",
              "      <td>20</td>\n",
              "      <td>acept</td>\n",
              "      <td>not furnished</td>\n",
              "      <td>1200</td>\n",
              "      <td>4960</td>\n",
              "      <td>1750</td>\n",
              "      <td>63</td>\n",
              "      <td>7973</td>\n",
              "    </tr>\n",
              "    <tr>\n",
              "      <th>2</th>\n",
              "      <td>Porto Alegre</td>\n",
              "      <td>80</td>\n",
              "      <td>1</td>\n",
              "      <td>1</td>\n",
              "      <td>1</td>\n",
              "      <td>6</td>\n",
              "      <td>acept</td>\n",
              "      <td>not furnished</td>\n",
              "      <td>1000</td>\n",
              "      <td>2800</td>\n",
              "      <td>0</td>\n",
              "      <td>41</td>\n",
              "      <td>3841</td>\n",
              "    </tr>\n",
              "    <tr>\n",
              "      <th>3</th>\n",
              "      <td>Porto Alegre</td>\n",
              "      <td>51</td>\n",
              "      <td>2</td>\n",
              "      <td>1</td>\n",
              "      <td>0</td>\n",
              "      <td>2</td>\n",
              "      <td>acept</td>\n",
              "      <td>not furnished</td>\n",
              "      <td>270</td>\n",
              "      <td>1112</td>\n",
              "      <td>22</td>\n",
              "      <td>17</td>\n",
              "      <td>1421</td>\n",
              "    </tr>\n",
              "    <tr>\n",
              "      <th>4</th>\n",
              "      <td>São Paulo</td>\n",
              "      <td>25</td>\n",
              "      <td>1</td>\n",
              "      <td>1</td>\n",
              "      <td>0</td>\n",
              "      <td>1</td>\n",
              "      <td>not acept</td>\n",
              "      <td>not furnished</td>\n",
              "      <td>0</td>\n",
              "      <td>800</td>\n",
              "      <td>25</td>\n",
              "      <td>11</td>\n",
              "      <td>836</td>\n",
              "    </tr>\n",
              "  </tbody>\n",
              "</table>\n",
              "</div>"
            ],
            "text/plain": [
              "         Cidade  Área (m2)  Quartos  Banheiro  Vagas de Est. Andar  \\\n",
              "0     São Paulo         70        2         1              1     7   \n",
              "1     São Paulo        320        4         4              0    20   \n",
              "2  Porto Alegre         80        1         1              1     6   \n",
              "3  Porto Alegre         51        2         1              0     2   \n",
              "4     São Paulo         25        1         1              0     1   \n",
              "\n",
              "  Permitido pets      Mobiliado  Taxa de Cond. (R$)  Aluguel (R$)  IPTU (R$)  \\\n",
              "0          acept      furnished                2065          3300        211   \n",
              "1          acept  not furnished                1200          4960       1750   \n",
              "2          acept  not furnished                1000          2800          0   \n",
              "3          acept  not furnished                 270          1112         22   \n",
              "4      not acept  not furnished                   0           800         25   \n",
              "\n",
              "   Seguro incêndio (R$)  Total (R$)  \n",
              "0                    42        5618  \n",
              "1                    63        7973  \n",
              "2                    41        3841  \n",
              "3                    17        1421  \n",
              "4                    11         836  "
            ]
          },
          "execution_count": 70,
          "metadata": {},
          "output_type": "execute_result"
        }
      ],
      "source": [
        "df = pd.read_csv(r'db\\houses_to_rent_v2.csv')\n",
        "# Verificando as primeiras linhas da base de dados\n",
        "df.head()"
      ]
    },
    {
      "attachments": {},
      "cell_type": "markdown",
      "id": "a64acb94",
      "metadata": {},
      "source": [
        "**Definindo o problema**\n",
        "\n",
        "- O objetivo desse projeto é descobrir o preço do aluguel e IPTU de um imóvel a partir de suas características."
      ]
    },
    {
      "attachments": {},
      "cell_type": "markdown",
      "id": "cfbf4681",
      "metadata": {},
      "source": [
        "**ALGUMAS DEFINIÇÕES (reunião 28/05)** - apagar essa parte depois!\n",
        "\n",
        "- Fazer 2 modelos para prever: aluguel e IPTU\n",
        "- 'Andar': transformar em 'casa ou apê'\n",
        "- Retirar IPTU zero (considerar como isenção) para treinar o modelo de aluguel, depois prever qual seria o IPTU desses valores zerados\n",
        "- Avaliar correlações entre as variáveis (ex: IPTU, área e cidade)\n",
        "- Fazer tabela com métricas de erro comparando os vários modelos"
      ]
    },
    {
      "attachments": {},
      "cell_type": "markdown",
      "id": "528915cd",
      "metadata": {
        "id": "528915cd"
      },
      "source": [
        "## ANÁLISE E EXPLORAÇÃO DOS DADOS\n",
        "\n",
        "**Faça uma análise detalhada do conjunto de dados escolhidos.**\n",
        "\n",
        "- Identifique os tipos de dados de cada coluna e caso seja necessário, faça uma conversão no tipo de dado. Em muitas situações é interessante renomear as colunas. OK\n",
        "- Verifique se existem valores nulos, e caso existam, elabore uma estrategia para lidar com eles (apagar eles, substituir com outro valor, etc.). OK\n",
        "- Faça uma análise estatistica dos dados para determinar aqueles que provavelmente não vão contribuir durante a modelagem (anomalías e outrliers).\n",
        "- Pode aplicar escalonamento nos dados, para manter todos eles na mesma escala.\n",
        "- Caso tenha features do tipo categorico e queria usar elas durante a modelagem, transforme elas para um valor numerico (encoding!)."
      ]
    },
    {
      "attachments": {},
      "cell_type": "markdown",
      "id": "82efd75f",
      "metadata": {},
      "source": [
        "**Identificando os tipos de dados**"
      ]
    },
    {
      "cell_type": "code",
      "execution_count": 71,
      "id": "82ba4e41",
      "metadata": {},
      "outputs": [
        {
          "name": "stdout",
          "output_type": "stream",
          "text": [
            "<class 'pandas.core.frame.DataFrame'>\n",
            "RangeIndex: 10692 entries, 0 to 10691\n",
            "Data columns (total 13 columns):\n",
            " #   Column                Non-Null Count  Dtype \n",
            "---  ------                --------------  ----- \n",
            " 0   Cidade                10692 non-null  object\n",
            " 1   Área (m2)             10692 non-null  int64 \n",
            " 2   Quartos               10692 non-null  int64 \n",
            " 3   Banheiro              10692 non-null  int64 \n",
            " 4   Vagas de Est.         10692 non-null  int64 \n",
            " 5   Andar                 10692 non-null  object\n",
            " 6   Permitido pets        10692 non-null  object\n",
            " 7   Mobiliado             10692 non-null  object\n",
            " 8   Taxa de Cond. (R$)    10692 non-null  int64 \n",
            " 9   Aluguel (R$)          10692 non-null  int64 \n",
            " 10  IPTU (R$)             10692 non-null  int64 \n",
            " 11  Seguro incêndio (R$)  10692 non-null  int64 \n",
            " 12  Total (R$)            10692 non-null  int64 \n",
            "dtypes: int64(9), object(4)\n",
            "memory usage: 1.1+ MB\n"
          ]
        }
      ],
      "source": [
        "df.info()"
      ]
    },
    {
      "attachments": {},
      "cell_type": "markdown",
      "id": "bacd0586",
      "metadata": {},
      "source": [
        "A variável Andar deveria ser numérica. Vamos verificar o que aconteceu!"
      ]
    },
    {
      "attachments": {},
      "cell_type": "markdown",
      "id": "c913c830",
      "metadata": {},
      "source": [
        "**Verificando valores da variável Andar**"
      ]
    },
    {
      "cell_type": "code",
      "execution_count": 72,
      "id": "b591abdd",
      "metadata": {},
      "outputs": [
        {
          "data": {
            "text/plain": [
              "-      2461\n",
              "1      1081\n",
              "2       985\n",
              "3       931\n",
              "4       748\n",
              "       ... \n",
              "32        2\n",
              "35        1\n",
              "46        1\n",
              "301       1\n",
              "51        1\n",
              "Name: Andar, Length: 35, dtype: int64"
            ]
          },
          "execution_count": 72,
          "metadata": {},
          "output_type": "execute_result"
        }
      ],
      "source": [
        "df['Andar'].value_counts()"
      ]
    },
    {
      "attachments": {},
      "cell_type": "markdown",
      "id": "78e38f7f",
      "metadata": {},
      "source": [
        "Verifica-se que existem 2461 valores faltantes nessa variável (representados por um traço \"-\"). \\\n",
        "Optou-se por transformar a variável em uma variável 'Apartamento' booleana, com 0 indicando casa e 1 indicando apartamento."
      ]
    },
    {
      "attachments": {},
      "cell_type": "markdown",
      "id": "66c15142",
      "metadata": {},
      "source": [
        "**Criando variável booleana Apartamento**"
      ]
    },
    {
      "cell_type": "code",
      "execution_count": 73,
      "id": "7e4e849a",
      "metadata": {},
      "outputs": [
        {
          "data": {
            "text/html": [
              "<div>\n",
              "<style scoped>\n",
              "    .dataframe tbody tr th:only-of-type {\n",
              "        vertical-align: middle;\n",
              "    }\n",
              "\n",
              "    .dataframe tbody tr th {\n",
              "        vertical-align: top;\n",
              "    }\n",
              "\n",
              "    .dataframe thead th {\n",
              "        text-align: right;\n",
              "    }\n",
              "</style>\n",
              "<table border=\"1\" class=\"dataframe\">\n",
              "  <thead>\n",
              "    <tr style=\"text-align: right;\">\n",
              "      <th></th>\n",
              "      <th>Cidade</th>\n",
              "      <th>Área (m2)</th>\n",
              "      <th>Quartos</th>\n",
              "      <th>Banheiro</th>\n",
              "      <th>Vagas de Est.</th>\n",
              "      <th>Andar</th>\n",
              "      <th>Permitido pets</th>\n",
              "      <th>Mobiliado</th>\n",
              "      <th>Taxa de Cond. (R$)</th>\n",
              "      <th>Aluguel (R$)</th>\n",
              "      <th>IPTU (R$)</th>\n",
              "      <th>Seguro incêndio (R$)</th>\n",
              "      <th>Total (R$)</th>\n",
              "      <th>Apartamento</th>\n",
              "    </tr>\n",
              "  </thead>\n",
              "  <tbody>\n",
              "    <tr>\n",
              "      <th>0</th>\n",
              "      <td>São Paulo</td>\n",
              "      <td>70</td>\n",
              "      <td>2</td>\n",
              "      <td>1</td>\n",
              "      <td>1</td>\n",
              "      <td>7</td>\n",
              "      <td>acept</td>\n",
              "      <td>furnished</td>\n",
              "      <td>2065</td>\n",
              "      <td>3300</td>\n",
              "      <td>211</td>\n",
              "      <td>42</td>\n",
              "      <td>5618</td>\n",
              "      <td>1</td>\n",
              "    </tr>\n",
              "    <tr>\n",
              "      <th>1</th>\n",
              "      <td>São Paulo</td>\n",
              "      <td>320</td>\n",
              "      <td>4</td>\n",
              "      <td>4</td>\n",
              "      <td>0</td>\n",
              "      <td>20</td>\n",
              "      <td>acept</td>\n",
              "      <td>not furnished</td>\n",
              "      <td>1200</td>\n",
              "      <td>4960</td>\n",
              "      <td>1750</td>\n",
              "      <td>63</td>\n",
              "      <td>7973</td>\n",
              "      <td>1</td>\n",
              "    </tr>\n",
              "    <tr>\n",
              "      <th>2</th>\n",
              "      <td>Porto Alegre</td>\n",
              "      <td>80</td>\n",
              "      <td>1</td>\n",
              "      <td>1</td>\n",
              "      <td>1</td>\n",
              "      <td>6</td>\n",
              "      <td>acept</td>\n",
              "      <td>not furnished</td>\n",
              "      <td>1000</td>\n",
              "      <td>2800</td>\n",
              "      <td>0</td>\n",
              "      <td>41</td>\n",
              "      <td>3841</td>\n",
              "      <td>1</td>\n",
              "    </tr>\n",
              "    <tr>\n",
              "      <th>3</th>\n",
              "      <td>Porto Alegre</td>\n",
              "      <td>51</td>\n",
              "      <td>2</td>\n",
              "      <td>1</td>\n",
              "      <td>0</td>\n",
              "      <td>2</td>\n",
              "      <td>acept</td>\n",
              "      <td>not furnished</td>\n",
              "      <td>270</td>\n",
              "      <td>1112</td>\n",
              "      <td>22</td>\n",
              "      <td>17</td>\n",
              "      <td>1421</td>\n",
              "      <td>1</td>\n",
              "    </tr>\n",
              "    <tr>\n",
              "      <th>4</th>\n",
              "      <td>São Paulo</td>\n",
              "      <td>25</td>\n",
              "      <td>1</td>\n",
              "      <td>1</td>\n",
              "      <td>0</td>\n",
              "      <td>1</td>\n",
              "      <td>not acept</td>\n",
              "      <td>not furnished</td>\n",
              "      <td>0</td>\n",
              "      <td>800</td>\n",
              "      <td>25</td>\n",
              "      <td>11</td>\n",
              "      <td>836</td>\n",
              "      <td>1</td>\n",
              "    </tr>\n",
              "    <tr>\n",
              "      <th>...</th>\n",
              "      <td>...</td>\n",
              "      <td>...</td>\n",
              "      <td>...</td>\n",
              "      <td>...</td>\n",
              "      <td>...</td>\n",
              "      <td>...</td>\n",
              "      <td>...</td>\n",
              "      <td>...</td>\n",
              "      <td>...</td>\n",
              "      <td>...</td>\n",
              "      <td>...</td>\n",
              "      <td>...</td>\n",
              "      <td>...</td>\n",
              "      <td>...</td>\n",
              "    </tr>\n",
              "    <tr>\n",
              "      <th>10687</th>\n",
              "      <td>Porto Alegre</td>\n",
              "      <td>63</td>\n",
              "      <td>2</td>\n",
              "      <td>1</td>\n",
              "      <td>1</td>\n",
              "      <td>5</td>\n",
              "      <td>not acept</td>\n",
              "      <td>furnished</td>\n",
              "      <td>402</td>\n",
              "      <td>1478</td>\n",
              "      <td>24</td>\n",
              "      <td>22</td>\n",
              "      <td>1926</td>\n",
              "      <td>1</td>\n",
              "    </tr>\n",
              "    <tr>\n",
              "      <th>10688</th>\n",
              "      <td>São Paulo</td>\n",
              "      <td>285</td>\n",
              "      <td>4</td>\n",
              "      <td>4</td>\n",
              "      <td>4</td>\n",
              "      <td>17</td>\n",
              "      <td>acept</td>\n",
              "      <td>not furnished</td>\n",
              "      <td>3100</td>\n",
              "      <td>15000</td>\n",
              "      <td>973</td>\n",
              "      <td>191</td>\n",
              "      <td>19260</td>\n",
              "      <td>1</td>\n",
              "    </tr>\n",
              "    <tr>\n",
              "      <th>10689</th>\n",
              "      <td>Rio de Janeiro</td>\n",
              "      <td>70</td>\n",
              "      <td>3</td>\n",
              "      <td>3</td>\n",
              "      <td>0</td>\n",
              "      <td>8</td>\n",
              "      <td>not acept</td>\n",
              "      <td>furnished</td>\n",
              "      <td>980</td>\n",
              "      <td>6000</td>\n",
              "      <td>332</td>\n",
              "      <td>78</td>\n",
              "      <td>7390</td>\n",
              "      <td>1</td>\n",
              "    </tr>\n",
              "    <tr>\n",
              "      <th>10690</th>\n",
              "      <td>Rio de Janeiro</td>\n",
              "      <td>120</td>\n",
              "      <td>2</td>\n",
              "      <td>2</td>\n",
              "      <td>2</td>\n",
              "      <td>8</td>\n",
              "      <td>acept</td>\n",
              "      <td>furnished</td>\n",
              "      <td>1585</td>\n",
              "      <td>12000</td>\n",
              "      <td>279</td>\n",
              "      <td>155</td>\n",
              "      <td>14020</td>\n",
              "      <td>1</td>\n",
              "    </tr>\n",
              "    <tr>\n",
              "      <th>10691</th>\n",
              "      <td>São Paulo</td>\n",
              "      <td>80</td>\n",
              "      <td>2</td>\n",
              "      <td>1</td>\n",
              "      <td>0</td>\n",
              "      <td>-</td>\n",
              "      <td>acept</td>\n",
              "      <td>not furnished</td>\n",
              "      <td>0</td>\n",
              "      <td>1400</td>\n",
              "      <td>165</td>\n",
              "      <td>22</td>\n",
              "      <td>1587</td>\n",
              "      <td>0</td>\n",
              "    </tr>\n",
              "  </tbody>\n",
              "</table>\n",
              "<p>10692 rows × 14 columns</p>\n",
              "</div>"
            ],
            "text/plain": [
              "               Cidade  Área (m2)  Quartos  Banheiro  Vagas de Est. Andar  \\\n",
              "0           São Paulo         70        2         1              1     7   \n",
              "1           São Paulo        320        4         4              0    20   \n",
              "2        Porto Alegre         80        1         1              1     6   \n",
              "3        Porto Alegre         51        2         1              0     2   \n",
              "4           São Paulo         25        1         1              0     1   \n",
              "...               ...        ...      ...       ...            ...   ...   \n",
              "10687    Porto Alegre         63        2         1              1     5   \n",
              "10688       São Paulo        285        4         4              4    17   \n",
              "10689  Rio de Janeiro         70        3         3              0     8   \n",
              "10690  Rio de Janeiro        120        2         2              2     8   \n",
              "10691       São Paulo         80        2         1              0     -   \n",
              "\n",
              "      Permitido pets      Mobiliado  Taxa de Cond. (R$)  Aluguel (R$)  \\\n",
              "0              acept      furnished                2065          3300   \n",
              "1              acept  not furnished                1200          4960   \n",
              "2              acept  not furnished                1000          2800   \n",
              "3              acept  not furnished                 270          1112   \n",
              "4          not acept  not furnished                   0           800   \n",
              "...              ...            ...                 ...           ...   \n",
              "10687      not acept      furnished                 402          1478   \n",
              "10688          acept  not furnished                3100         15000   \n",
              "10689      not acept      furnished                 980          6000   \n",
              "10690          acept      furnished                1585         12000   \n",
              "10691          acept  not furnished                   0          1400   \n",
              "\n",
              "       IPTU (R$)  Seguro incêndio (R$)  Total (R$)  Apartamento  \n",
              "0            211                    42        5618            1  \n",
              "1           1750                    63        7973            1  \n",
              "2              0                    41        3841            1  \n",
              "3             22                    17        1421            1  \n",
              "4             25                    11         836            1  \n",
              "...          ...                   ...         ...          ...  \n",
              "10687         24                    22        1926            1  \n",
              "10688        973                   191       19260            1  \n",
              "10689        332                    78        7390            1  \n",
              "10690        279                   155       14020            1  \n",
              "10691        165                    22        1587            0  \n",
              "\n",
              "[10692 rows x 14 columns]"
            ]
          },
          "execution_count": 73,
          "metadata": {},
          "output_type": "execute_result"
        }
      ],
      "source": [
        "df['Apartamento'] = df['Andar'].apply(lambda x: 0 if x == '-' else 1)\n",
        "df"
      ]
    },
    {
      "attachments": {},
      "cell_type": "markdown",
      "id": "810bdbef",
      "metadata": {},
      "source": [
        "**Renomeando as colunas**"
      ]
    },
    {
      "cell_type": "code",
      "execution_count": 74,
      "id": "d984100c",
      "metadata": {},
      "outputs": [],
      "source": [
        "df = df.rename(columns={'Área (m2)': 'Area', 'Vagas de Est.': 'Vagas_Est', 'Permitido pets': 'Permitido_pets', 'Taxa de Cond. (R$)':'Taxa_Cond', \n",
        "                   'Aluguel (R$)': 'Aluguel','IPTU (R$)': 'IPTU', 'Seguro incêndio (R$)': 'Seguro_incendio', 'Total (R$)': 'Total'})"
      ]
    },
    {
      "attachments": {},
      "cell_type": "markdown",
      "id": "bb8ceaea",
      "metadata": {},
      "source": [
        "**Quantidade de registros**"
      ]
    },
    {
      "cell_type": "code",
      "execution_count": 75,
      "id": "30e4cf83",
      "metadata": {},
      "outputs": [
        {
          "name": "stdout",
          "output_type": "stream",
          "text": [
            "O dataframe possui 10692 registros\n"
          ]
        }
      ],
      "source": [
        "print(f'O dataframe possui {df.shape[0]} registros')"
      ]
    },
    {
      "attachments": {},
      "cell_type": "markdown",
      "id": "d954cf9d",
      "metadata": {},
      "source": [
        "**Removendo linhas duplicadas**"
      ]
    },
    {
      "cell_type": "code",
      "execution_count": 76,
      "id": "45c78859",
      "metadata": {},
      "outputs": [
        {
          "name": "stdout",
          "output_type": "stream",
          "text": [
            "O dataframe agora possui 10334 registros\n"
          ]
        }
      ],
      "source": [
        "df = df.drop_duplicates()\n",
        "print(f'O dataframe agora possui {df.shape[0]} registros')"
      ]
    },
    {
      "attachments": {},
      "cell_type": "markdown",
      "id": "fa7fd232",
      "metadata": {},
      "source": [
        "**Verificando se existem dados nulos**"
      ]
    },
    {
      "cell_type": "code",
      "execution_count": 77,
      "id": "b42f2cd2",
      "metadata": {},
      "outputs": [
        {
          "data": {
            "text/html": [
              "<div>\n",
              "<style scoped>\n",
              "    .dataframe tbody tr th:only-of-type {\n",
              "        vertical-align: middle;\n",
              "    }\n",
              "\n",
              "    .dataframe tbody tr th {\n",
              "        vertical-align: top;\n",
              "    }\n",
              "\n",
              "    .dataframe thead th {\n",
              "        text-align: right;\n",
              "    }\n",
              "</style>\n",
              "<table border=\"1\" class=\"dataframe\">\n",
              "  <thead>\n",
              "    <tr style=\"text-align: right;\">\n",
              "      <th></th>\n",
              "      <th>Dados faltantes</th>\n",
              "    </tr>\n",
              "  </thead>\n",
              "  <tbody>\n",
              "    <tr>\n",
              "      <th>Cidade</th>\n",
              "      <td>0</td>\n",
              "    </tr>\n",
              "    <tr>\n",
              "      <th>Area</th>\n",
              "      <td>0</td>\n",
              "    </tr>\n",
              "    <tr>\n",
              "      <th>Quartos</th>\n",
              "      <td>0</td>\n",
              "    </tr>\n",
              "    <tr>\n",
              "      <th>Banheiro</th>\n",
              "      <td>0</td>\n",
              "    </tr>\n",
              "    <tr>\n",
              "      <th>Vagas_Est</th>\n",
              "      <td>0</td>\n",
              "    </tr>\n",
              "    <tr>\n",
              "      <th>Andar</th>\n",
              "      <td>0</td>\n",
              "    </tr>\n",
              "    <tr>\n",
              "      <th>Permitido_pets</th>\n",
              "      <td>0</td>\n",
              "    </tr>\n",
              "    <tr>\n",
              "      <th>Mobiliado</th>\n",
              "      <td>0</td>\n",
              "    </tr>\n",
              "    <tr>\n",
              "      <th>Taxa_Cond</th>\n",
              "      <td>0</td>\n",
              "    </tr>\n",
              "    <tr>\n",
              "      <th>Aluguel</th>\n",
              "      <td>0</td>\n",
              "    </tr>\n",
              "    <tr>\n",
              "      <th>IPTU</th>\n",
              "      <td>0</td>\n",
              "    </tr>\n",
              "    <tr>\n",
              "      <th>Seguro_incendio</th>\n",
              "      <td>0</td>\n",
              "    </tr>\n",
              "    <tr>\n",
              "      <th>Total</th>\n",
              "      <td>0</td>\n",
              "    </tr>\n",
              "    <tr>\n",
              "      <th>Apartamento</th>\n",
              "      <td>0</td>\n",
              "    </tr>\n",
              "  </tbody>\n",
              "</table>\n",
              "</div>"
            ],
            "text/plain": [
              "                 Dados faltantes\n",
              "Cidade                         0\n",
              "Area                           0\n",
              "Quartos                        0\n",
              "Banheiro                       0\n",
              "Vagas_Est                      0\n",
              "Andar                          0\n",
              "Permitido_pets                 0\n",
              "Mobiliado                      0\n",
              "Taxa_Cond                      0\n",
              "Aluguel                        0\n",
              "IPTU                           0\n",
              "Seguro_incendio                0\n",
              "Total                          0\n",
              "Apartamento                    0"
            ]
          },
          "execution_count": 77,
          "metadata": {},
          "output_type": "execute_result"
        }
      ],
      "source": [
        "qtd_faltantes = df.isnull().sum()\n",
        "df_faltantes =  pd.DataFrame({'Dados faltantes': qtd_faltantes})\n",
        "pd.set_option('display.max_rows', 15)\n",
        "df_faltantes"
      ]
    },
    {
      "attachments": {},
      "cell_type": "markdown",
      "id": "d70b70cb",
      "metadata": {},
      "source": [
        "**Medidas descritivas das variáveis**"
      ]
    },
    {
      "cell_type": "code",
      "execution_count": 78,
      "id": "0a8130c1",
      "metadata": {},
      "outputs": [
        {
          "data": {
            "text/html": [
              "<div>\n",
              "<style scoped>\n",
              "    .dataframe tbody tr th:only-of-type {\n",
              "        vertical-align: middle;\n",
              "    }\n",
              "\n",
              "    .dataframe tbody tr th {\n",
              "        vertical-align: top;\n",
              "    }\n",
              "\n",
              "    .dataframe thead th {\n",
              "        text-align: right;\n",
              "    }\n",
              "</style>\n",
              "<table border=\"1\" class=\"dataframe\">\n",
              "  <thead>\n",
              "    <tr style=\"text-align: right;\">\n",
              "      <th></th>\n",
              "      <th>count</th>\n",
              "      <th>mean</th>\n",
              "      <th>std</th>\n",
              "      <th>min</th>\n",
              "      <th>25%</th>\n",
              "      <th>50%</th>\n",
              "      <th>75%</th>\n",
              "      <th>max</th>\n",
              "    </tr>\n",
              "  </thead>\n",
              "  <tbody>\n",
              "    <tr>\n",
              "      <th>Area</th>\n",
              "      <td>10334.0</td>\n",
              "      <td>152.439423</td>\n",
              "      <td>545.875595</td>\n",
              "      <td>11.0</td>\n",
              "      <td>59.00</td>\n",
              "      <td>95.0</td>\n",
              "      <td>190.00</td>\n",
              "      <td>46335.0</td>\n",
              "    </tr>\n",
              "    <tr>\n",
              "      <th>Quartos</th>\n",
              "      <td>10334.0</td>\n",
              "      <td>2.539965</td>\n",
              "      <td>1.168185</td>\n",
              "      <td>1.0</td>\n",
              "      <td>2.00</td>\n",
              "      <td>3.0</td>\n",
              "      <td>3.00</td>\n",
              "      <td>13.0</td>\n",
              "    </tr>\n",
              "    <tr>\n",
              "      <th>Banheiro</th>\n",
              "      <td>10334.0</td>\n",
              "      <td>2.268725</td>\n",
              "      <td>1.414650</td>\n",
              "      <td>1.0</td>\n",
              "      <td>1.00</td>\n",
              "      <td>2.0</td>\n",
              "      <td>3.00</td>\n",
              "      <td>10.0</td>\n",
              "    </tr>\n",
              "    <tr>\n",
              "      <th>Vagas_Est</th>\n",
              "      <td>10334.0</td>\n",
              "      <td>1.644475</td>\n",
              "      <td>1.598527</td>\n",
              "      <td>0.0</td>\n",
              "      <td>1.00</td>\n",
              "      <td>1.0</td>\n",
              "      <td>2.00</td>\n",
              "      <td>12.0</td>\n",
              "    </tr>\n",
              "    <tr>\n",
              "      <th>Taxa_Cond</th>\n",
              "      <td>10334.0</td>\n",
              "      <td>1091.243952</td>\n",
              "      <td>11446.092263</td>\n",
              "      <td>0.0</td>\n",
              "      <td>180.00</td>\n",
              "      <td>571.0</td>\n",
              "      <td>1286.75</td>\n",
              "      <td>1117000.0</td>\n",
              "    </tr>\n",
              "    <tr>\n",
              "      <th>Aluguel</th>\n",
              "      <td>10334.0</td>\n",
              "      <td>3966.296013</td>\n",
              "      <td>3436.190007</td>\n",
              "      <td>450.0</td>\n",
              "      <td>1598.25</td>\n",
              "      <td>2750.0</td>\n",
              "      <td>5000.00</td>\n",
              "      <td>45000.0</td>\n",
              "    </tr>\n",
              "    <tr>\n",
              "      <th>IPTU</th>\n",
              "      <td>10334.0</td>\n",
              "      <td>376.929263</td>\n",
              "      <td>3160.602165</td>\n",
              "      <td>0.0</td>\n",
              "      <td>41.00</td>\n",
              "      <td>130.0</td>\n",
              "      <td>389.75</td>\n",
              "      <td>313700.0</td>\n",
              "    </tr>\n",
              "    <tr>\n",
              "      <th>Seguro_incendio</th>\n",
              "      <td>10334.0</td>\n",
              "      <td>54.264273</td>\n",
              "      <td>48.164380</td>\n",
              "      <td>3.0</td>\n",
              "      <td>21.00</td>\n",
              "      <td>37.0</td>\n",
              "      <td>70.00</td>\n",
              "      <td>677.0</td>\n",
              "    </tr>\n",
              "    <tr>\n",
              "      <th>Total</th>\n",
              "      <td>10334.0</td>\n",
              "      <td>5488.943488</td>\n",
              "      <td>12669.110756</td>\n",
              "      <td>499.0</td>\n",
              "      <td>2116.00</td>\n",
              "      <td>3685.5</td>\n",
              "      <td>6912.00</td>\n",
              "      <td>1120000.0</td>\n",
              "    </tr>\n",
              "    <tr>\n",
              "      <th>Apartamento</th>\n",
              "      <td>10334.0</td>\n",
              "      <td>0.770563</td>\n",
              "      <td>0.420491</td>\n",
              "      <td>0.0</td>\n",
              "      <td>1.00</td>\n",
              "      <td>1.0</td>\n",
              "      <td>1.00</td>\n",
              "      <td>1.0</td>\n",
              "    </tr>\n",
              "  </tbody>\n",
              "</table>\n",
              "</div>"
            ],
            "text/plain": [
              "                   count         mean           std    min      25%     50%  \\\n",
              "Area             10334.0   152.439423    545.875595   11.0    59.00    95.0   \n",
              "Quartos          10334.0     2.539965      1.168185    1.0     2.00     3.0   \n",
              "Banheiro         10334.0     2.268725      1.414650    1.0     1.00     2.0   \n",
              "Vagas_Est        10334.0     1.644475      1.598527    0.0     1.00     1.0   \n",
              "Taxa_Cond        10334.0  1091.243952  11446.092263    0.0   180.00   571.0   \n",
              "Aluguel          10334.0  3966.296013   3436.190007  450.0  1598.25  2750.0   \n",
              "IPTU             10334.0   376.929263   3160.602165    0.0    41.00   130.0   \n",
              "Seguro_incendio  10334.0    54.264273     48.164380    3.0    21.00    37.0   \n",
              "Total            10334.0  5488.943488  12669.110756  499.0  2116.00  3685.5   \n",
              "Apartamento      10334.0     0.770563      0.420491    0.0     1.00     1.0   \n",
              "\n",
              "                     75%        max  \n",
              "Area              190.00    46335.0  \n",
              "Quartos             3.00       13.0  \n",
              "Banheiro            3.00       10.0  \n",
              "Vagas_Est           2.00       12.0  \n",
              "Taxa_Cond        1286.75  1117000.0  \n",
              "Aluguel          5000.00    45000.0  \n",
              "IPTU              389.75   313700.0  \n",
              "Seguro_incendio    70.00      677.0  \n",
              "Total            6912.00  1120000.0  \n",
              "Apartamento         1.00        1.0  "
            ]
          },
          "execution_count": 78,
          "metadata": {},
          "output_type": "execute_result"
        }
      ],
      "source": [
        "df.describe().T"
      ]
    },
    {
      "attachments": {},
      "cell_type": "markdown",
      "id": "73f3ef76",
      "metadata": {},
      "source": [
        "**Medidas descritivas da variável Aluguel**"
      ]
    },
    {
      "cell_type": "code",
      "execution_count": 79,
      "id": "ae766c8a",
      "metadata": {},
      "outputs": [
        {
          "data": {
            "text/html": [
              "<div>\n",
              "<style scoped>\n",
              "    .dataframe tbody tr th:only-of-type {\n",
              "        vertical-align: middle;\n",
              "    }\n",
              "\n",
              "    .dataframe tbody tr th {\n",
              "        vertical-align: top;\n",
              "    }\n",
              "\n",
              "    .dataframe thead th {\n",
              "        text-align: right;\n",
              "    }\n",
              "</style>\n",
              "<table border=\"1\" class=\"dataframe\">\n",
              "  <thead>\n",
              "    <tr style=\"text-align: right;\">\n",
              "      <th></th>\n",
              "      <th>Aluguel</th>\n",
              "    </tr>\n",
              "  </thead>\n",
              "  <tbody>\n",
              "    <tr>\n",
              "      <th>count</th>\n",
              "      <td>10334.000000</td>\n",
              "    </tr>\n",
              "    <tr>\n",
              "      <th>mean</th>\n",
              "      <td>3966.296013</td>\n",
              "    </tr>\n",
              "    <tr>\n",
              "      <th>std</th>\n",
              "      <td>3436.190007</td>\n",
              "    </tr>\n",
              "    <tr>\n",
              "      <th>min</th>\n",
              "      <td>450.000000</td>\n",
              "    </tr>\n",
              "    <tr>\n",
              "      <th>25%</th>\n",
              "      <td>1598.250000</td>\n",
              "    </tr>\n",
              "    <tr>\n",
              "      <th>50%</th>\n",
              "      <td>2750.000000</td>\n",
              "    </tr>\n",
              "    <tr>\n",
              "      <th>75%</th>\n",
              "      <td>5000.000000</td>\n",
              "    </tr>\n",
              "    <tr>\n",
              "      <th>max</th>\n",
              "      <td>45000.000000</td>\n",
              "    </tr>\n",
              "  </tbody>\n",
              "</table>\n",
              "</div>"
            ],
            "text/plain": [
              "            Aluguel\n",
              "count  10334.000000\n",
              "mean    3966.296013\n",
              "std     3436.190007\n",
              "min      450.000000\n",
              "25%     1598.250000\n",
              "50%     2750.000000\n",
              "75%     5000.000000\n",
              "max    45000.000000"
            ]
          },
          "execution_count": 79,
          "metadata": {},
          "output_type": "execute_result"
        }
      ],
      "source": [
        "df[['Aluguel']].describe()"
      ]
    },
    {
      "attachments": {},
      "cell_type": "markdown",
      "id": "db9e666a",
      "metadata": {},
      "source": [
        "**Distribuição da variável Aluguel**"
      ]
    },
    {
      "cell_type": "code",
      "execution_count": 80,
      "id": "cf7e56ce",
      "metadata": {},
      "outputs": [
        {
          "data": {
            "text/plain": [
              "<AxesSubplot: xlabel='Aluguel', ylabel='Count'>"
            ]
          },
          "execution_count": 80,
          "metadata": {},
          "output_type": "execute_result"
        },
        {
          "data": {
            "image/png": "[encoded data removed]",
            "text/plain": [
              "<Figure size 640x480 with 1 Axes>"
            ]
          },
          "metadata": {},
          "output_type": "display_data"
        }
      ],
      "source": [
        "sns.histplot(data=df, x='Aluguel')"
      ]
    },
    {
      "attachments": {},
      "cell_type": "markdown",
      "id": "759cf0ac",
      "metadata": {},
      "source": [
        "**Assimetria da variável Aluguel**"
      ]
    },
    {
      "cell_type": "code",
      "execution_count": 81,
      "id": "e3f48f3c",
      "metadata": {},
      "outputs": [
        {
          "data": {
            "text/plain": [
              "1.8048130622058955"
            ]
          },
          "execution_count": 81,
          "metadata": {},
          "output_type": "execute_result"
        }
      ],
      "source": [
        "df['Aluguel'].skew() #assimetria a direita"
      ]
    },
    {
      "attachments": {},
      "cell_type": "markdown",
      "id": "d9ae05bd",
      "metadata": {},
      "source": [
        "**Distribuição do Log da variável Aluguel**"
      ]
    },
    {
      "cell_type": "code",
      "execution_count": 82,
      "id": "513a0b04",
      "metadata": {},
      "outputs": [
        {
          "data": {
            "text/plain": [
              "<AxesSubplot: xlabel='Log_aluguel', ylabel='Count'>"
            ]
          },
          "execution_count": 82,
          "metadata": {},
          "output_type": "execute_result"
        },
        {
          "data": {
            "image/png": "[encoded data removed]",
            "text/plain": [
              "<Figure size 640x480 with 1 Axes>"
            ]
          },
          "metadata": {},
          "output_type": "display_data"
        }
      ],
      "source": [
        "df['Log_aluguel'] = np.log10(df['Aluguel'])\n",
        "sns.histplot(data=df, x='Log_aluguel')"
      ]
    },
    {
      "attachments": {},
      "cell_type": "markdown",
      "id": "ed33ba0e",
      "metadata": {},
      "source": [
        "**Assimetria do Log da variável Aluguel**"
      ]
    },
    {
      "cell_type": "code",
      "execution_count": 83,
      "id": "c851f199",
      "metadata": {},
      "outputs": [
        {
          "data": {
            "text/plain": [
              "0.2181385094194639"
            ]
          },
          "execution_count": 83,
          "metadata": {},
          "output_type": "execute_result"
        }
      ],
      "source": [
        "df['Log_aluguel'].skew() #assimetria a direita"
      ]
    },
    {
      "attachments": {},
      "cell_type": "markdown",
      "id": "6db3890a",
      "metadata": {},
      "source": [
        "**Tabela de correlação entre variáveis numéricas**"
      ]
    },
    {
      "cell_type": "code",
      "execution_count": 84,
      "id": "aadc4971",
      "metadata": {},
      "outputs": [
        {
          "data": {
            "text/html": [
              "<div>\n",
              "<style scoped>\n",
              "    .dataframe tbody tr th:only-of-type {\n",
              "        vertical-align: middle;\n",
              "    }\n",
              "\n",
              "    .dataframe tbody tr th {\n",
              "        vertical-align: top;\n",
              "    }\n",
              "\n",
              "    .dataframe thead th {\n",
              "        text-align: right;\n",
              "    }\n",
              "</style>\n",
              "<table border=\"1\" class=\"dataframe\">\n",
              "  <thead>\n",
              "    <tr style=\"text-align: right;\">\n",
              "      <th></th>\n",
              "      <th>Area</th>\n",
              "      <th>Quartos</th>\n",
              "      <th>Banheiro</th>\n",
              "      <th>Vagas_Est</th>\n",
              "      <th>Taxa_Cond</th>\n",
              "      <th>Aluguel</th>\n",
              "      <th>IPTU</th>\n",
              "      <th>Seguro_incendio</th>\n",
              "      <th>Total</th>\n",
              "      <th>Apartamento</th>\n",
              "      <th>Log_aluguel</th>\n",
              "    </tr>\n",
              "  </thead>\n",
              "  <tbody>\n",
              "    <tr>\n",
              "      <th>Area</th>\n",
              "      <td>1.000000</td>\n",
              "      <td>0.191251</td>\n",
              "      <td>0.224388</td>\n",
              "      <td>0.191421</td>\n",
              "      <td>0.009085</td>\n",
              "      <td>0.178228</td>\n",
              "      <td>0.038453</td>\n",
              "      <td>0.185652</td>\n",
              "      <td>0.066849</td>\n",
              "      <td>-0.085752</td>\n",
              "      <td>0.174788</td>\n",
              "    </tr>\n",
              "    <tr>\n",
              "      <th>Quartos</th>\n",
              "      <td>0.191251</td>\n",
              "      <td>1.000000</td>\n",
              "      <td>0.730469</td>\n",
              "      <td>0.611634</td>\n",
              "      <td>0.020466</td>\n",
              "      <td>0.536632</td>\n",
              "      <td>0.073539</td>\n",
              "      <td>0.560907</td>\n",
              "      <td>0.184519</td>\n",
              "      <td>-0.269469</td>\n",
              "      <td>0.587692</td>\n",
              "    </tr>\n",
              "    <tr>\n",
              "      <th>Banheiro</th>\n",
              "      <td>0.224388</td>\n",
              "      <td>0.730469</td>\n",
              "      <td>1.000000</td>\n",
              "      <td>0.693952</td>\n",
              "      <td>0.057297</td>\n",
              "      <td>0.665625</td>\n",
              "      <td>0.108083</td>\n",
              "      <td>0.673771</td>\n",
              "      <td>0.261833</td>\n",
              "      <td>-0.236206</td>\n",
              "      <td>0.691678</td>\n",
              "    </tr>\n",
              "    <tr>\n",
              "      <th>Vagas_Est</th>\n",
              "      <td>0.191421</td>\n",
              "      <td>0.611634</td>\n",
              "      <td>0.693952</td>\n",
              "      <td>1.000000</td>\n",
              "      <td>0.021100</td>\n",
              "      <td>0.573997</td>\n",
              "      <td>0.097159</td>\n",
              "      <td>0.593557</td>\n",
              "      <td>0.201245</td>\n",
              "      <td>-0.293421</td>\n",
              "      <td>0.597841</td>\n",
              "    </tr>\n",
              "    <tr>\n",
              "      <th>Taxa_Cond</th>\n",
              "      <td>0.009085</td>\n",
              "      <td>0.020466</td>\n",
              "      <td>0.057297</td>\n",
              "      <td>0.021100</td>\n",
              "      <td>1.000000</td>\n",
              "      <td>0.052516</td>\n",
              "      <td>0.011267</td>\n",
              "      <td>0.042833</td>\n",
              "      <td>0.920770</td>\n",
              "      <td>0.045625</td>\n",
              "      <td>0.051660</td>\n",
              "    </tr>\n",
              "    <tr>\n",
              "      <th>Aluguel</th>\n",
              "      <td>0.178228</td>\n",
              "      <td>0.536632</td>\n",
              "      <td>0.665625</td>\n",
              "      <td>0.573997</td>\n",
              "      <td>0.052516</td>\n",
              "      <td>1.000000</td>\n",
              "      <td>0.106679</td>\n",
              "      <td>0.987203</td>\n",
              "      <td>0.349045</td>\n",
              "      <td>-0.175368</td>\n",
              "      <td>0.914062</td>\n",
              "    </tr>\n",
              "    <tr>\n",
              "      <th>IPTU</th>\n",
              "      <td>0.038453</td>\n",
              "      <td>0.073539</td>\n",
              "      <td>0.108083</td>\n",
              "      <td>0.097159</td>\n",
              "      <td>0.011267</td>\n",
              "      <td>0.106679</td>\n",
              "      <td>1.000000</td>\n",
              "      <td>0.104473</td>\n",
              "      <td>0.288968</td>\n",
              "      <td>-0.013419</td>\n",
              "      <td>0.099432</td>\n",
              "    </tr>\n",
              "    <tr>\n",
              "      <th>Seguro_incendio</th>\n",
              "      <td>0.185652</td>\n",
              "      <td>0.560907</td>\n",
              "      <td>0.673771</td>\n",
              "      <td>0.593557</td>\n",
              "      <td>0.042833</td>\n",
              "      <td>0.987203</td>\n",
              "      <td>0.104473</td>\n",
              "      <td>1.000000</td>\n",
              "      <td>0.336324</td>\n",
              "      <td>-0.270641</td>\n",
              "      <td>0.898023</td>\n",
              "    </tr>\n",
              "    <tr>\n",
              "      <th>Total</th>\n",
              "      <td>0.066849</td>\n",
              "      <td>0.184519</td>\n",
              "      <td>0.261833</td>\n",
              "      <td>0.201245</td>\n",
              "      <td>0.920770</td>\n",
              "      <td>0.349045</td>\n",
              "      <td>0.288968</td>\n",
              "      <td>0.336324</td>\n",
              "      <td>1.000000</td>\n",
              "      <td>-0.010718</td>\n",
              "      <td>0.322815</td>\n",
              "    </tr>\n",
              "    <tr>\n",
              "      <th>Apartamento</th>\n",
              "      <td>-0.085752</td>\n",
              "      <td>-0.269469</td>\n",
              "      <td>-0.236206</td>\n",
              "      <td>-0.293421</td>\n",
              "      <td>0.045625</td>\n",
              "      <td>-0.175368</td>\n",
              "      <td>-0.013419</td>\n",
              "      <td>-0.270641</td>\n",
              "      <td>-0.010718</td>\n",
              "      <td>1.000000</td>\n",
              "      <td>-0.166154</td>\n",
              "    </tr>\n",
              "    <tr>\n",
              "      <th>Log_aluguel</th>\n",
              "      <td>0.174788</td>\n",
              "      <td>0.587692</td>\n",
              "      <td>0.691678</td>\n",
              "      <td>0.597841</td>\n",
              "      <td>0.051660</td>\n",
              "      <td>0.914062</td>\n",
              "      <td>0.099432</td>\n",
              "      <td>0.898023</td>\n",
              "      <td>0.322815</td>\n",
              "      <td>-0.166154</td>\n",
              "      <td>1.000000</td>\n",
              "    </tr>\n",
              "  </tbody>\n",
              "</table>\n",
              "</div>"
            ],
            "text/plain": [
              "                     Area   Quartos  Banheiro  Vagas_Est  Taxa_Cond   Aluguel  \\\n",
              "Area             1.000000  0.191251  0.224388   0.191421   0.009085  0.178228   \n",
              "Quartos          0.191251  1.000000  0.730469   0.611634   0.020466  0.536632   \n",
              "Banheiro         0.224388  0.730469  1.000000   0.693952   0.057297  0.665625   \n",
              "Vagas_Est        0.191421  0.611634  0.693952   1.000000   0.021100  0.573997   \n",
              "Taxa_Cond        0.009085  0.020466  0.057297   0.021100   1.000000  0.052516   \n",
              "Aluguel          0.178228  0.536632  0.665625   0.573997   0.052516  1.000000   \n",
              "IPTU             0.038453  0.073539  0.108083   0.097159   0.011267  0.106679   \n",
              "Seguro_incendio  0.185652  0.560907  0.673771   0.593557   0.042833  0.987203   \n",
              "Total            0.066849  0.184519  0.261833   0.201245   0.920770  0.349045   \n",
              "Apartamento     -0.085752 -0.269469 -0.236206  -0.293421   0.045625 -0.175368   \n",
              "Log_aluguel      0.174788  0.587692  0.691678   0.597841   0.051660  0.914062   \n",
              "\n",
              "                     IPTU  Seguro_incendio     Total  Apartamento  Log_aluguel  \n",
              "Area             0.038453         0.185652  0.066849    -0.085752     0.174788  \n",
              "Quartos          0.073539         0.560907  0.184519    -0.269469     0.587692  \n",
              "Banheiro         0.108083         0.673771  0.261833    -0.236206     0.691678  \n",
              "Vagas_Est        0.097159         0.593557  0.201245    -0.293421     0.597841  \n",
              "Taxa_Cond        0.011267         0.042833  0.920770     0.045625     0.051660  \n",
              "Aluguel          0.106679         0.987203  0.349045    -0.175368     0.914062  \n",
              "IPTU             1.000000         0.104473  0.288968    -0.013419     0.099432  \n",
              "Seguro_incendio  0.104473         1.000000  0.336324    -0.270641     0.898023  \n",
              "Total            0.288968         0.336324  1.000000    -0.010718     0.322815  \n",
              "Apartamento     -0.013419        -0.270641 -0.010718     1.000000    -0.166154  \n",
              "Log_aluguel      0.099432         0.898023  0.322815    -0.166154     1.000000  "
            ]
          },
          "execution_count": 84,
          "metadata": {},
          "output_type": "execute_result"
        }
      ],
      "source": [
        "correlacao = df.corr(numeric_only=True)\n",
        "correlacao"
      ]
    },
    {
      "attachments": {},
      "cell_type": "markdown",
      "id": "6ca15dda",
      "metadata": {},
      "source": [
        "**Heatmap da correlação das variáveis numéricas**"
      ]
    },
    {
      "cell_type": "code",
      "execution_count": 85,
      "id": "26ca6f9c",
      "metadata": {},
      "outputs": [
        {
          "data": {
            "text/plain": [
              "<AxesSubplot: >"
            ]
          },
          "execution_count": 85,
          "metadata": {},
          "output_type": "execute_result"
        },
        {
          "data": {
            "image/png": "[encoded data removed]",
            "text/plain": [
              "<Figure size 1000x1000 with 2 Axes>"
            ]
          },
          "metadata": {},
          "output_type": "display_data"
        }
      ],
      "source": [
        "plt.figure(figsize=(10, 10))\n",
        "sns.heatmap(correlacao)"
      ]
    },
    {
      "attachments": {},
      "cell_type": "markdown",
      "id": "18406a55-0333-424b-83e0-707c010c4913",
      "metadata": {
        "id": "18406a55-0333-424b-83e0-707c010c4913",
        "tags": []
      },
      "source": [
        "## MODELAGEM\n",
        "\n",
        "#### 1. Importar a **classe do estimador que se deseja treinar** - escolher a hipótese!\n",
        "\n",
        "- Identifique o problema com o qual está lidando (classificação ou regressão).\n",
        "- Dependendo ao problema, faça escolha de qual estimador deseja usar para sua modelagem (pode escolher mais de uma para fins de teste!)."
      ]
    },
    {
      "cell_type": "code",
      "execution_count": 86,
      "id": "7543082a-742b-4cda-bcf5-a589a696625c",
      "metadata": {
        "id": "7543082a-742b-4cda-bcf5-a589a696625c"
      },
      "outputs": [],
      "source": [
        "# Importe aqui ..."
      ]
    },
    {
      "cell_type": "code",
      "execution_count": 87,
      "id": "660109f0-f98f-4b50-810e-7727d8037de2",
      "metadata": {
        "id": "660109f0-f98f-4b50-810e-7727d8037de2",
        "tags": []
      },
      "outputs": [],
      "source": [
        "# Código aqui ..."
      ]
    },
    {
      "attachments": {},
      "cell_type": "markdown",
      "id": "c776bd3e-669d-4941-a1e5-d10d5daf6d3c",
      "metadata": {
        "id": "c776bd3e-669d-4941-a1e5-d10d5daf6d3c"
      },
      "source": [
        "#### 5. Use o modelo treinado para **fazer previsões** usando os **dados de teste** (ou **de validação**)"
      ]
    },
    {
      "cell_type": "code",
      "execution_count": 88,
      "id": "a0320fc7-b6e4-41ad-8b59-0b91ffb6eca7",
      "metadata": {
        "id": "a0320fc7-b6e4-41ad-8b59-0b91ffb6eca7",
        "tags": []
      },
      "outputs": [],
      "source": [
        "# Código aqui ..."
      ]
    },
    {
      "attachments": {},
      "cell_type": "markdown",
      "id": "19cb5a70-7985-4d36-9ba3-077f97bee976",
      "metadata": {
        "id": "19cb5a70-7985-4d36-9ba3-077f97bee976"
      },
      "source": [
        "#### 6. **Avalie a performance do modelo com base nas previsões acima**\n",
        "\n",
        "Lembre que você pode treinar e avaliar muito modelos, e no final escolher aquele que teve melhor performance respeito à metrica escolhida."
      ]
    },
    {
      "cell_type": "code",
      "execution_count": 89,
      "id": "f742e47b-c09f-41f6-8bc9-b3c4ba926812",
      "metadata": {
        "id": "f742e47b-c09f-41f6-8bc9-b3c4ba926812",
        "tags": []
      },
      "outputs": [],
      "source": [
        "# Código aqui ..."
      ]
    }
  ],
  "metadata": {
    "colab": {
      "provenance": []
    },
    "kernelspec": {
      "display_name": "Python 3 (ipykernel)",
      "language": "python",
      "name": "python3"
    },
    "language_info": {
      "codemirror_mode": {
        "name": "ipython",
        "version": 3
      },
      "file_extension": ".py",
      "mimetype": "text/x-python",
      "name": "python",
      "nbconvert_exporter": "python",
      "pygments_lexer": "ipython3",
      "version": "3.11.2"
    },
    "varInspector": {
      "cols": {
        "lenName": 16,
        "lenType": 16,
        "lenVar": 40
      },
      "kernels_config": {
        "python": {
          "delete_cmd_postfix": "",
          "delete_cmd_prefix": "del ",
          "library": "var_list.py",
          "varRefreshCmd": "print(var_dic_list())"
        },
        "r": {
          "delete_cmd_postfix": ") ",
          "delete_cmd_prefix": "rm(",
          "library": "var_list.r",
          "varRefreshCmd": "cat(var_dic_list()) "
        }
      },
      "types_to_exclude": [
        "module",
        "function",
        "builtin_function_or_method",
        "instance",
        "_Feature"
      ],
      "window_display": false
    }
  },
  "nbformat": 4,
  "nbformat_minor": 5
}
