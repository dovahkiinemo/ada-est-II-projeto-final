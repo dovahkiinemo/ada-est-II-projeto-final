{
  "cells": [
    {
      "cell_type": "markdown",
      "id": "23acbec8",
      "metadata": {
        "id": "23acbec8"
      },
      "source": [
        "# Começando a pensar no projeto"
      ]
    },
    {
      "cell_type": "markdown",
      "id": "8432dcba",
      "metadata": {
        "id": "8432dcba"
      },
      "source": [
        "## BRAIN STORM\n",
        "\n",
        "- Objetivo é lidar com um problema real, e tentar resolver ele usando: Classificação ou Regressão.\n",
        "- Tente fazer uma análise bem abrangente, explicando cada etapa e justificando cada ação escolhida.\n",
        "- Incluir gráficos e tabelas comparativas pode ajudar muito!"
      ]
    },
    {
      "cell_type": "markdown",
      "id": "7d2f46d9",
      "metadata": {
        "id": "7d2f46d9"
      },
      "source": [
        "## BASE DE DADOS\n",
        "\n",
        "**Faça escolha de um dataset da sua preferencia!**\n",
        "\n",
        "Você pode procurar conjuntos de dados aqui:\n",
        "\n",
        "1. No repositório da <a href=\"https://archive.ics.uci.edu/ml/datasets.php\" target=\"_blank\">UCI</a>.\n",
        "1. No <a href=\"https://www.kaggle.com/datasets\" target=\"_blank\">Kaggle</a>."
      ]
    },
    {
      "cell_type": "markdown",
      "id": "a6793b12",
      "metadata": {
        "id": "a6793b12"
      },
      "source": [
        "## INICIANDO O PROJETO"
      ]
    },
    {
      "cell_type": "markdown",
      "id": "633bdebf",
      "metadata": {
        "id": "633bdebf"
      },
      "source": [
        "**Carregando as bibliotecas**"
      ]
    },
    {
      "cell_type": "code",
      "execution_count": null,
      "id": "1ea5048a",
      "metadata": {
        "ExecuteTime": {
          "end_time": "2022-07-19T23:43:06.122155Z",
          "start_time": "2022-07-19T23:43:01.924164Z"
        },
        "id": "1ea5048a"
      },
      "outputs": [],
      "source": [
        "import pandas as pd\n",
        "import numpy as np\n",
        "\n",
        "import matplotlib.pyplot as plt\n",
        "import seaborn as sns"
      ]
    },
    {
      "cell_type": "code",
      "execution_count": null,
      "id": "ae8301aa",
      "metadata": {
        "ExecuteTime": {
          "end_time": "2022-07-19T23:59:05.345615Z",
          "start_time": "2022-07-19T23:59:05.330657Z"
        },
        "id": "ae8301aa"
      },
      "outputs": [],
      "source": [
        "# Carregue o seu conjunto de dados ...\n"
      ]
    },
    {
      "cell_type": "markdown",
      "id": "627de07b-af1e-4c49-be96-badacb4f6acf",
      "metadata": {
        "id": "627de07b-af1e-4c49-be96-badacb4f6acf"
      },
      "source": [
        "**Definindo o problema**\n",
        "\n",
        "Aqui começa uma etapa de reflexão. Pense em um possivel problema que você poderia resolver usando os dados que tem disponíveis, por exemplo:\n",
        "\n",
        "- Se escolhi um conjunto de dados com informações de vinhos e os preços deles, meu problema poderia ser tentar fazer a descobrir o preço de um vinho (que ainda não saiu no mercado) com base nas caracteristicas dele."
      ]
    },
    {
      "cell_type": "code",
      "execution_count": null,
      "id": "29329ffc-4542-4bea-86e6-115af8531974",
      "metadata": {
        "id": "29329ffc-4542-4bea-86e6-115af8531974",
        "tags": []
      },
      "outputs": [],
      "source": [
        "# detalhe aqui qual o problema que vai tentar resolver e explique por que seria um problema de classificação ou regressão ..."
      ]
    },
    {
      "attachments": {},
      "cell_type": "markdown",
      "id": "cfbf4681",
      "metadata": {},
      "source": [
        "- Fazer 2 modelos para prever: aluguel e IPTU\n",
        "- 'Andar': transformar em 'casa ou apê'\n",
        "- Retirar IPTU zero (considerar como isenção) para treinar o modelo de aluguel, depois prever qual seria o IPTU desses valores zerados\n",
        "- Avaliar correlações entre as variáveis (ex: IPTU, área e cidade)\n",
        "- Fazer tabela com métricas de erro comparando os vários modelos"
      ]
    },
    {
      "cell_type": "markdown",
      "id": "528915cd",
      "metadata": {
        "id": "528915cd"
      },
      "source": [
        "## ANÁLISE E EXPLORAÇÃO DOS DADOS\n",
        "\n",
        "**Faça uma análise detalhada do conjunto de dados escolhidos.**\n",
        "\n",
        "- Identifique os tipos de dados de cada coluna e caso seja necessário, faça uma conversão no tipo de dado. Em muitas situações é interessante renomear as colunas.\n",
        "- Verifique se existem valores nulos, e caso existam, elabore uma estrategia para lidar com eles (apagar eles, substituir com outro valor, etc.).\n",
        "- Faça uma análise estatistica dos dados para determinar aqueles que provavelmente não vão contribuir durante a modelagem (anomalías e outrliers).\n",
        "- Pode aplicar escalonamento nos dados, para manter todos eles na mesma escala.\n",
        "- Caso tenha features do tipo categorico e queria usar elas durante a modelagem, transforme elas para um valor numerico (encoding!)."
      ]
    },
    {
      "cell_type": "code",
      "execution_count": null,
      "id": "005aa1ad-ae88-4da1-a652-8498a65b6054",
      "metadata": {
        "id": "005aa1ad-ae88-4da1-a652-8498a65b6054"
      },
      "outputs": [],
      "source": [
        "# Comece aqui ..."
      ]
    },
    {
      "cell_type": "markdown",
      "id": "18406a55-0333-424b-83e0-707c010c4913",
      "metadata": {
        "id": "18406a55-0333-424b-83e0-707c010c4913",
        "tags": []
      },
      "source": [
        "## MODELAGEM\n",
        "\n",
        "#### 1. Importar a **classe do estimador que se deseja treinar** - escolher a hipótese!\n",
        "\n",
        "- Identifique o problema com o qual está lidando (classificação ou regressão).\n",
        "- Dependendo ao problema, faça escolha de qual estimador deseja usar para sua modelagem (pode escolher mais de uma para fins de teste!)."
      ]
    },
    {
      "cell_type": "code",
      "execution_count": null,
      "id": "7543082a-742b-4cda-bcf5-a589a696625c",
      "metadata": {
        "id": "7543082a-742b-4cda-bcf5-a589a696625c"
      },
      "outputs": [],
      "source": [
        "# Importe aqui ..."
      ]
    },
    {
      "cell_type": "markdown",
      "id": "c7ece8b3-bdd5-47b7-9981-eb07d17060eb",
      "metadata": {
        "id": "c7ece8b3-bdd5-47b7-9981-eb07d17060eb"
      },
      "source": [
        "#### 2. Instanciar a classe do estimador, **escolhendo os hiperparâmetros desejados**\n",
        "- Para a primeira versão do modelo, pode ser uma boa escolha utilizar os parâmetros default;\n",
        "- Veremos mais pra frente como escolher os hiperparâmetros adequadamente;"
      ]
    },
    {
      "cell_type": "code",
      "execution_count": null,
      "id": "ea4f0579-9df8-4d4b-838b-8ee36f58c4c2",
      "metadata": {
        "id": "ea4f0579-9df8-4d4b-838b-8ee36f58c4c2",
        "tags": []
      },
      "outputs": [],
      "source": [
        "# Instancie aqui ..."
      ]
    },
    {
      "cell_type": "markdown",
      "id": "3fcc533f-468b-4299-a910-11378d987e7d",
      "metadata": {
        "id": "3fcc533f-468b-4299-a910-11378d987e7d"
      },
      "source": [
        "#### 3. Separe os dados em **dados de treino** e **dados de teste**."
      ]
    },
    {
      "cell_type": "code",
      "execution_count": null,
      "id": "278b17ea-520a-4b15-b184-288c8bd7510f",
      "metadata": {
        "id": "278b17ea-520a-4b15-b184-288c8bd7510f"
      },
      "outputs": [],
      "source": [
        "# Codigo aqui ..."
      ]
    },
    {
      "cell_type": "markdown",
      "id": "56721f3e-a453-4510-9be9-3d4112ae4de1",
      "metadata": {
        "id": "56721f3e-a453-4510-9be9-3d4112ae4de1"
      },
      "source": [
        "#### 4. Treine o modelo, usando **os dados de treino**"
      ]
    },
    {
      "cell_type": "code",
      "execution_count": null,
      "id": "660109f0-f98f-4b50-810e-7727d8037de2",
      "metadata": {
        "id": "660109f0-f98f-4b50-810e-7727d8037de2",
        "tags": []
      },
      "outputs": [],
      "source": [
        "# Código aqui ..."
      ]
    },
    {
      "cell_type": "markdown",
      "id": "c776bd3e-669d-4941-a1e5-d10d5daf6d3c",
      "metadata": {
        "id": "c776bd3e-669d-4941-a1e5-d10d5daf6d3c"
      },
      "source": [
        "#### 5. Use o modelo treinado para **fazer previsões** usando os **dados de teste** (ou **de validação**)"
      ]
    },
    {
      "cell_type": "code",
      "execution_count": null,
      "id": "a0320fc7-b6e4-41ad-8b59-0b91ffb6eca7",
      "metadata": {
        "id": "a0320fc7-b6e4-41ad-8b59-0b91ffb6eca7",
        "tags": []
      },
      "outputs": [],
      "source": [
        "# Código aqui ..."
      ]
    },
    {
      "cell_type": "markdown",
      "id": "19cb5a70-7985-4d36-9ba3-077f97bee976",
      "metadata": {
        "id": "19cb5a70-7985-4d36-9ba3-077f97bee976"
      },
      "source": [
        "#### 6. **Avalie a performance do modelo com base nas previsões acima**\n",
        "\n",
        "Lembre que você pode treinar e avaliar muito modelos, e no final escolher aquele que teve melhor performance respeito à metrica escolhida."
      ]
    },
    {
      "cell_type": "code",
      "execution_count": null,
      "id": "f742e47b-c09f-41f6-8bc9-b3c4ba926812",
      "metadata": {
        "id": "f742e47b-c09f-41f6-8bc9-b3c4ba926812",
        "tags": []
      },
      "outputs": [],
      "source": [
        "# Código aqui ..."
      ]
    }
  ],
  "metadata": {
    "colab": {
      "provenance": []
    },
    "kernelspec": {
      "display_name": "Python 3 (ipykernel)",
      "language": "python",
      "name": "python3"
    },
    "language_info": {
      "codemirror_mode": {
        "name": "ipython",
        "version": 3
      },
      "file_extension": ".py",
      "mimetype": "text/x-python",
      "name": "python",
      "nbconvert_exporter": "python",
      "pygments_lexer": "ipython3",
      "version": "3.11.2"
    },
    "varInspector": {
      "cols": {
        "lenName": 16,
        "lenType": 16,
        "lenVar": 40
      },
      "kernels_config": {
        "python": {
          "delete_cmd_postfix": "",
          "delete_cmd_prefix": "del ",
          "library": "var_list.py",
          "varRefreshCmd": "print(var_dic_list())"
        },
        "r": {
          "delete_cmd_postfix": ") ",
          "delete_cmd_prefix": "rm(",
          "library": "var_list.r",
          "varRefreshCmd": "cat(var_dic_list()) "
        }
      },
      "types_to_exclude": [
        "module",
        "function",
        "builtin_function_or_method",
        "instance",
        "_Feature"
      ],
      "window_display": false
    }
  },
  "nbformat": 4,
  "nbformat_minor": 5
}
