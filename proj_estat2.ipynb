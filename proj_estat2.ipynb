{
  "nbformat": 4,
  "nbformat_minor": 0,
  "metadata": {
    "colab": {
      "provenance": [],
      "authorship_tag": "ABX9TyM6OwMdXBsGQTyAz0r5h1M4",
      "include_colab_link": true
    },
    "kernelspec": {
      "name": "python3",
      "display_name": "Python 3"
    },
    "language_info": {
      "name": "python"
    }
  },
  "cells": [
    {
      "cell_type": "markdown",
      "metadata": {
        "id": "view-in-github",
        "colab_type": "text"
      },
      "source": [
        "<a href=\"https://colab.research.google.com/github/dovahkiinemo/ada-est-II-projeto-final/blob/modelagem_campinas/proj_estat2.ipynb\" target=\"_parent\"><img src=\"https://colab.research.google.com/assets/colab-badge.svg\" alt=\"Open In Colab\"/></a>"
      ]
    },
    {
      "cell_type": "code",
      "execution_count": null,
      "metadata": {
        "colab": {
          "base_uri": "https://localhost:8080/"
        },
        "id": "5hH5S1Rsn8Tb",
        "outputId": "e72c9616-118c-48a3-e9a0-4eeb3ffef572"
      },
      "outputs": [
        {
          "output_type": "stream",
          "name": "stdout",
          "text": [
            "Mounted at /content/drive\n"
          ]
        },
        {
          "output_type": "stream",
          "name": "stderr",
          "text": [
            "<ipython-input-3-155db017638c>:15: SettingWithCopyWarning: \n",
            "A value is trying to be set on a copy of a slice from a DataFrame\n",
            "\n",
            "See the caveats in the documentation: https://pandas.pydata.org/pandas-docs/stable/user_guide/indexing.html#returning-a-view-versus-a-copy\n",
            "  camp.drop([9241], inplace = True)\n",
            "<ipython-input-3-155db017638c>:18: SettingWithCopyWarning: \n",
            "A value is trying to be set on a copy of a slice from a DataFrame\n",
            "\n",
            "See the caveats in the documentation: https://pandas.pydata.org/pandas-docs/stable/user_guide/indexing.html#returning-a-view-versus-a-copy\n",
            "  camp.drop([911], inplace = True)\n"
          ]
        },
        {
          "output_type": "stream",
          "name": "stdout",
          "text": [
            "0.6800429938045218 [  10.17067046 -177.41569132  549.27320717  487.28030786] -232.6661137149249\n"
          ]
        },
        {
          "output_type": "stream",
          "name": "stderr",
          "text": [
            "<ipython-input-3-155db017638c>:32: SettingWithCopyWarning: \n",
            "A value is trying to be set on a copy of a slice from a DataFrame.\n",
            "Try using .loc[row_indexer,col_indexer] = value instead\n",
            "\n",
            "See the caveats in the documentation: https://pandas.pydata.org/pandas-docs/stable/user_guide/indexing.html#returning-a-view-versus-a-copy\n",
            "  camp['valor_predito'] = valor_predito\n"
          ]
        }
      ],
      "source": [
        "import pandas as pd\n",
        "import numpy as np\n",
        "from google.colab import drive\n",
        "drive.mount('/content/drive')\n",
        "\n",
        "# le os arquivos e salva em dataframes do pandas\n",
        "cad = pd.read_csv('/content/drive/MyDrive/houses_to_rent_v2.csv')\n",
        "\n",
        "cad.rename(columns={'parking spaces': 'parking', 'hoa (R$)': 'hoa',\t'rent amount (R$)': 'rent',\n",
        "                     'property tax (R$)': 'tax',\t'fire insurance (R$)': 'insurance',\t'total (R$)': 'total'}, inplace = True)\n",
        "\n",
        "camp = cad.loc[(cad.city == 'Campinas') & (cad.floor != '-') & (cad.furniture == 'not furnished')]\n",
        "\n",
        "# area parece um valor anomalo\n",
        "camp.drop([9241], inplace = True)\n",
        "\n",
        "# aluguel de 12000 para uma area de 75m2\n",
        "camp.drop([911], inplace = True)\n",
        "\n",
        "from sklearn.model_selection import train_test_split\n",
        "from sklearn.linear_model import LinearRegression\n",
        "\n",
        "x = camp.loc[:, ['area', 'rooms', 'bathroom', 'parking']].values\n",
        "y = camp.loc[:, 'rent'].values\n",
        "x_train, x_test, y_train, y_test = train_test_split(x, y, test_size = 0.2, random_state=2)\n",
        "reg = LinearRegression(fit_intercept = True)\n",
        "reg.fit(x_train, y_train)\n",
        "score = reg.score(x_test, y_test)\n",
        "print(score, reg.coef_, reg.intercept_)\n",
        "\n",
        "valor_predito = camp.area*(10.17) + camp.rooms*(-177.42) + camp.bathroom*(549.27) + camp.parking*(487.28) + (-232.66)\n",
        "camp['valor_predito'] = valor_predito\n",
        "camp = camp[['city', 'area', 'rooms',\t'bathroom', 'parking', 'floor', 'animal', 'furniture', 'hoa', 'rent', 'valor_predito', 'tax', 'insurance', 'total']]\n",
        "\n",
        "camp['rent'] = camp['rent'].astype(float)\n",
        "\n",
        "from sklearn.metrics import mean_squared_error\n",
        "y_true = camp.rent.values\n",
        "y_pred = camp.valor_predito.values\n",
        "mean_squared_error(y_true, y_pred, squared=False)"
      ]
    }
  ]
}